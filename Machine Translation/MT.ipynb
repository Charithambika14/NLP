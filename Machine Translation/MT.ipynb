{
  "nbformat": 4,
  "nbformat_minor": 0,
  "metadata": {
    "colab": {
      "provenance": [],
      "gpuType": "T4"
    },
    "kernelspec": {
      "name": "python3",
      "display_name": "Python 3"
    },
    "language_info": {
      "name": "python"
    },
    "accelerator": "GPU"
  },
  "cells": [
    {
      "cell_type": "markdown",
      "source": [
        "### Machine translation"
      ],
      "metadata": {
        "id": "0IaQtsrR9aU1"
      }
    },
    {
      "cell_type": "code",
      "source": [
        "!pip show torch torchtext"
      ],
      "metadata": {
        "colab": {
          "base_uri": "https://localhost:8080/"
        },
        "collapsed": true,
        "id": "ekiT5hzDPlQn",
        "outputId": "1b5cb047-72c0-4da8-df8c-58979ed602fd"
      },
      "execution_count": null,
      "outputs": [
        {
          "output_type": "stream",
          "name": "stdout",
          "text": [
            "\u001b[33mWARNING: Package(s) not found: torchtext\u001b[0m\u001b[33m\n",
            "\u001b[0mName: torch\n",
            "Version: 2.5.1+cu121\n",
            "Summary: Tensors and Dynamic neural networks in Python with strong GPU acceleration\n",
            "Home-page: https://pytorch.org/\n",
            "Author: PyTorch Team\n",
            "Author-email: packages@pytorch.org\n",
            "License: BSD-3-Clause\n",
            "Location: /usr/local/lib/python3.10/dist-packages\n",
            "Requires: filelock, fsspec, jinja2, networkx, sympy, typing-extensions\n",
            "Required-by: accelerate, fastai, peft, sentence-transformers, timm, torchaudio, torchvision\n"
          ]
        }
      ]
    },
    {
      "cell_type": "code",
      "source": [
        "!pip install torch==2.0.1 torchtext==0.15.2"
      ],
      "metadata": {
        "colab": {
          "base_uri": "https://localhost:8080/"
        },
        "collapsed": true,
        "id": "RS6erSiUSbhw",
        "outputId": "d0756e72-cbac-4042-ca6a-47368a4a0c64"
      },
      "execution_count": 1,
      "outputs": [
        {
          "output_type": "stream",
          "name": "stdout",
          "text": [
            "Collecting torch==2.0.1\n",
            "  Downloading torch-2.0.1-cp310-cp310-manylinux1_x86_64.whl.metadata (24 kB)\n",
            "Collecting torchtext==0.15.2\n",
            "  Downloading torchtext-0.15.2-cp310-cp310-manylinux1_x86_64.whl.metadata (7.4 kB)\n",
            "Requirement already satisfied: filelock in /usr/local/lib/python3.10/dist-packages (from torch==2.0.1) (3.16.1)\n",
            "Requirement already satisfied: typing-extensions in /usr/local/lib/python3.10/dist-packages (from torch==2.0.1) (4.12.2)\n",
            "Requirement already satisfied: sympy in /usr/local/lib/python3.10/dist-packages (from torch==2.0.1) (1.13.1)\n",
            "Requirement already satisfied: networkx in /usr/local/lib/python3.10/dist-packages (from torch==2.0.1) (3.4.2)\n",
            "Requirement already satisfied: jinja2 in /usr/local/lib/python3.10/dist-packages (from torch==2.0.1) (3.1.4)\n",
            "Collecting nvidia-cuda-nvrtc-cu11==11.7.99 (from torch==2.0.1)\n",
            "  Downloading nvidia_cuda_nvrtc_cu11-11.7.99-2-py3-none-manylinux1_x86_64.whl.metadata (1.5 kB)\n",
            "Collecting nvidia-cuda-runtime-cu11==11.7.99 (from torch==2.0.1)\n",
            "  Downloading nvidia_cuda_runtime_cu11-11.7.99-py3-none-manylinux1_x86_64.whl.metadata (1.6 kB)\n",
            "Collecting nvidia-cuda-cupti-cu11==11.7.101 (from torch==2.0.1)\n",
            "  Downloading nvidia_cuda_cupti_cu11-11.7.101-py3-none-manylinux1_x86_64.whl.metadata (1.6 kB)\n",
            "Collecting nvidia-cudnn-cu11==8.5.0.96 (from torch==2.0.1)\n",
            "  Downloading nvidia_cudnn_cu11-8.5.0.96-2-py3-none-manylinux1_x86_64.whl.metadata (1.6 kB)\n",
            "Collecting nvidia-cublas-cu11==11.10.3.66 (from torch==2.0.1)\n",
            "  Downloading nvidia_cublas_cu11-11.10.3.66-py3-none-manylinux1_x86_64.whl.metadata (1.6 kB)\n",
            "Collecting nvidia-cufft-cu11==10.9.0.58 (from torch==2.0.1)\n",
            "  Downloading nvidia_cufft_cu11-10.9.0.58-py3-none-manylinux2014_x86_64.whl.metadata (1.5 kB)\n",
            "Collecting nvidia-curand-cu11==10.2.10.91 (from torch==2.0.1)\n",
            "  Downloading nvidia_curand_cu11-10.2.10.91-py3-none-manylinux1_x86_64.whl.metadata (1.6 kB)\n",
            "Collecting nvidia-cusolver-cu11==11.4.0.1 (from torch==2.0.1)\n",
            "  Downloading nvidia_cusolver_cu11-11.4.0.1-2-py3-none-manylinux1_x86_64.whl.metadata (1.6 kB)\n",
            "Collecting nvidia-cusparse-cu11==11.7.4.91 (from torch==2.0.1)\n",
            "  Downloading nvidia_cusparse_cu11-11.7.4.91-py3-none-manylinux1_x86_64.whl.metadata (1.6 kB)\n",
            "Collecting nvidia-nccl-cu11==2.14.3 (from torch==2.0.1)\n",
            "  Downloading nvidia_nccl_cu11-2.14.3-py3-none-manylinux1_x86_64.whl.metadata (1.8 kB)\n",
            "Collecting nvidia-nvtx-cu11==11.7.91 (from torch==2.0.1)\n",
            "  Downloading nvidia_nvtx_cu11-11.7.91-py3-none-manylinux1_x86_64.whl.metadata (1.7 kB)\n",
            "Collecting triton==2.0.0 (from torch==2.0.1)\n",
            "  Downloading triton-2.0.0-1-cp310-cp310-manylinux2014_x86_64.manylinux_2_17_x86_64.whl.metadata (1.0 kB)\n",
            "Requirement already satisfied: tqdm in /usr/local/lib/python3.10/dist-packages (from torchtext==0.15.2) (4.66.6)\n",
            "Requirement already satisfied: requests in /usr/local/lib/python3.10/dist-packages (from torchtext==0.15.2) (2.32.3)\n",
            "Requirement already satisfied: numpy in /usr/local/lib/python3.10/dist-packages (from torchtext==0.15.2) (1.26.4)\n",
            "Collecting torchdata==0.6.1 (from torchtext==0.15.2)\n",
            "  Downloading torchdata-0.6.1-cp310-cp310-manylinux_2_17_x86_64.manylinux2014_x86_64.whl.metadata (13 kB)\n",
            "Requirement already satisfied: setuptools in /usr/local/lib/python3.10/dist-packages (from nvidia-cublas-cu11==11.10.3.66->torch==2.0.1) (75.1.0)\n",
            "Requirement already satisfied: wheel in /usr/local/lib/python3.10/dist-packages (from nvidia-cublas-cu11==11.10.3.66->torch==2.0.1) (0.45.0)\n",
            "Requirement already satisfied: urllib3>=1.25 in /usr/local/lib/python3.10/dist-packages (from torchdata==0.6.1->torchtext==0.15.2) (2.2.3)\n",
            "Requirement already satisfied: cmake in /usr/local/lib/python3.10/dist-packages (from triton==2.0.0->torch==2.0.1) (3.30.5)\n",
            "Collecting lit (from triton==2.0.0->torch==2.0.1)\n",
            "  Downloading lit-18.1.8-py3-none-any.whl.metadata (2.5 kB)\n",
            "Requirement already satisfied: MarkupSafe>=2.0 in /usr/local/lib/python3.10/dist-packages (from jinja2->torch==2.0.1) (3.0.2)\n",
            "Requirement already satisfied: charset-normalizer<4,>=2 in /usr/local/lib/python3.10/dist-packages (from requests->torchtext==0.15.2) (3.4.0)\n",
            "Requirement already satisfied: idna<4,>=2.5 in /usr/local/lib/python3.10/dist-packages (from requests->torchtext==0.15.2) (3.10)\n",
            "Requirement already satisfied: certifi>=2017.4.17 in /usr/local/lib/python3.10/dist-packages (from requests->torchtext==0.15.2) (2024.8.30)\n",
            "Requirement already satisfied: mpmath<1.4,>=1.1.0 in /usr/local/lib/python3.10/dist-packages (from sympy->torch==2.0.1) (1.3.0)\n",
            "Downloading torch-2.0.1-cp310-cp310-manylinux1_x86_64.whl (619.9 MB)\n",
            "\u001b[2K   \u001b[90m━━━━━━━━━━━━━━━━━━━━━━━━━━━━━━━━━━━━━━━━\u001b[0m \u001b[32m619.9/619.9 MB\u001b[0m \u001b[31m3.5 MB/s\u001b[0m eta \u001b[36m0:00:00\u001b[0m\n",
            "\u001b[?25hDownloading torchtext-0.15.2-cp310-cp310-manylinux1_x86_64.whl (2.0 MB)\n",
            "\u001b[2K   \u001b[90m━━━━━━━━━━━━━━━━━━━━━━━━━━━━━━━━━━━━━━━━\u001b[0m \u001b[32m2.0/2.0 MB\u001b[0m \u001b[31m51.7 MB/s\u001b[0m eta \u001b[36m0:00:00\u001b[0m\n",
            "\u001b[?25hDownloading nvidia_cublas_cu11-11.10.3.66-py3-none-manylinux1_x86_64.whl (317.1 MB)\n",
            "\u001b[2K   \u001b[90m━━━━━━━━━━━━━━━━━━━━━━━━━━━━━━━━━━━━━━━━\u001b[0m \u001b[32m317.1/317.1 MB\u001b[0m \u001b[31m4.7 MB/s\u001b[0m eta \u001b[36m0:00:00\u001b[0m\n",
            "\u001b[?25hDownloading nvidia_cuda_cupti_cu11-11.7.101-py3-none-manylinux1_x86_64.whl (11.8 MB)\n",
            "\u001b[2K   \u001b[90m━━━━━━━━━━━━━━━━━━━━━━━━━━━━━━━━━━━━━━━━\u001b[0m \u001b[32m11.8/11.8 MB\u001b[0m \u001b[31m41.1 MB/s\u001b[0m eta \u001b[36m0:00:00\u001b[0m\n",
            "\u001b[?25hDownloading nvidia_cuda_nvrtc_cu11-11.7.99-2-py3-none-manylinux1_x86_64.whl (21.0 MB)\n",
            "\u001b[2K   \u001b[90m━━━━━━━━━━━━━━━━━━━━━━━━━━━━━━━━━━━━━━━━\u001b[0m \u001b[32m21.0/21.0 MB\u001b[0m \u001b[31m65.2 MB/s\u001b[0m eta \u001b[36m0:00:00\u001b[0m\n",
            "\u001b[?25hDownloading nvidia_cuda_runtime_cu11-11.7.99-py3-none-manylinux1_x86_64.whl (849 kB)\n",
            "\u001b[2K   \u001b[90m━━━━━━━━━━━━━━━━━━━━━━━━━━━━━━━━━━━━━━━━\u001b[0m \u001b[32m849.3/849.3 kB\u001b[0m \u001b[31m53.2 MB/s\u001b[0m eta \u001b[36m0:00:00\u001b[0m\n",
            "\u001b[?25hDownloading nvidia_cudnn_cu11-8.5.0.96-2-py3-none-manylinux1_x86_64.whl (557.1 MB)\n",
            "\u001b[2K   \u001b[90m━━━━━━━━━━━━━━━━━━━━━━━━━━━━━━━━━━━━━━━━\u001b[0m \u001b[32m557.1/557.1 MB\u001b[0m \u001b[31m3.2 MB/s\u001b[0m eta \u001b[36m0:00:00\u001b[0m\n",
            "\u001b[?25hDownloading nvidia_cufft_cu11-10.9.0.58-py3-none-manylinux2014_x86_64.whl (168.4 MB)\n",
            "\u001b[2K   \u001b[90m━━━━━━━━━━━━━━━━━━━━━━━━━━━━━━━━━━━━━━━━\u001b[0m \u001b[32m168.4/168.4 MB\u001b[0m \u001b[31m7.5 MB/s\u001b[0m eta \u001b[36m0:00:00\u001b[0m\n",
            "\u001b[?25hDownloading nvidia_curand_cu11-10.2.10.91-py3-none-manylinux1_x86_64.whl (54.6 MB)\n",
            "\u001b[2K   \u001b[90m━━━━━━━━━━━━━━━━━━━━━━━━━━━━━━━━━━━━━━━━\u001b[0m \u001b[32m54.6/54.6 MB\u001b[0m \u001b[31m10.5 MB/s\u001b[0m eta \u001b[36m0:00:00\u001b[0m\n",
            "\u001b[?25hDownloading nvidia_cusolver_cu11-11.4.0.1-2-py3-none-manylinux1_x86_64.whl (102.6 MB)\n",
            "\u001b[2K   \u001b[90m━━━━━━━━━━━━━━━━━━━━━━━━━━━━━━━━━━━━━━━━\u001b[0m \u001b[32m102.6/102.6 MB\u001b[0m \u001b[31m9.1 MB/s\u001b[0m eta \u001b[36m0:00:00\u001b[0m\n",
            "\u001b[?25hDownloading nvidia_cusparse_cu11-11.7.4.91-py3-none-manylinux1_x86_64.whl (173.2 MB)\n",
            "\u001b[2K   \u001b[90m━━━━━━━━━━━━━━━━━━━━━━━━━━━━━━━━━━━━━━━━\u001b[0m \u001b[32m173.2/173.2 MB\u001b[0m \u001b[31m6.0 MB/s\u001b[0m eta \u001b[36m0:00:00\u001b[0m\n",
            "\u001b[?25hDownloading nvidia_nccl_cu11-2.14.3-py3-none-manylinux1_x86_64.whl (177.1 MB)\n",
            "\u001b[2K   \u001b[90m━━━━━━━━━━━━━━━━━━━━━━━━━━━━━━━━━━━━━━━━\u001b[0m \u001b[32m177.1/177.1 MB\u001b[0m \u001b[31m6.7 MB/s\u001b[0m eta \u001b[36m0:00:00\u001b[0m\n",
            "\u001b[?25hDownloading nvidia_nvtx_cu11-11.7.91-py3-none-manylinux1_x86_64.whl (98 kB)\n",
            "\u001b[2K   \u001b[90m━━━━━━━━━━━━━━━━━━━━━━━━━━━━━━━━━━━━━━━━\u001b[0m \u001b[32m98.6/98.6 kB\u001b[0m \u001b[31m8.4 MB/s\u001b[0m eta \u001b[36m0:00:00\u001b[0m\n",
            "\u001b[?25hDownloading torchdata-0.6.1-cp310-cp310-manylinux_2_17_x86_64.manylinux2014_x86_64.whl (4.6 MB)\n",
            "\u001b[2K   \u001b[90m━━━━━━━━━━━━━━━━━━━━━━━━━━━━━━━━━━━━━━━━\u001b[0m \u001b[32m4.6/4.6 MB\u001b[0m \u001b[31m93.3 MB/s\u001b[0m eta \u001b[36m0:00:00\u001b[0m\n",
            "\u001b[?25hDownloading triton-2.0.0-1-cp310-cp310-manylinux2014_x86_64.manylinux_2_17_x86_64.whl (63.3 MB)\n",
            "\u001b[2K   \u001b[90m━━━━━━━━━━━━━━━━━━━━━━━━━━━━━━━━━━━━━━━━\u001b[0m \u001b[32m63.3/63.3 MB\u001b[0m \u001b[31m11.5 MB/s\u001b[0m eta \u001b[36m0:00:00\u001b[0m\n",
            "\u001b[?25hDownloading lit-18.1.8-py3-none-any.whl (96 kB)\n",
            "\u001b[2K   \u001b[90m━━━━━━━━━━━━━━━━━━━━━━━━━━━━━━━━━━━━━━━━\u001b[0m \u001b[32m96.4/96.4 kB\u001b[0m \u001b[31m9.5 MB/s\u001b[0m eta \u001b[36m0:00:00\u001b[0m\n",
            "\u001b[?25hInstalling collected packages: lit, nvidia-nvtx-cu11, nvidia-nccl-cu11, nvidia-cusparse-cu11, nvidia-curand-cu11, nvidia-cufft-cu11, nvidia-cuda-runtime-cu11, nvidia-cuda-nvrtc-cu11, nvidia-cuda-cupti-cu11, nvidia-cublas-cu11, nvidia-cusolver-cu11, nvidia-cudnn-cu11, triton, torch, torchdata, torchtext\n",
            "  Attempting uninstall: torch\n",
            "    Found existing installation: torch 2.5.1+cu121\n",
            "    Uninstalling torch-2.5.1+cu121:\n",
            "      Successfully uninstalled torch-2.5.1+cu121\n",
            "\u001b[31mERROR: pip's dependency resolver does not currently take into account all the packages that are installed. This behaviour is the source of the following dependency conflicts.\n",
            "torchaudio 2.5.1+cu121 requires torch==2.5.1, but you have torch 2.0.1 which is incompatible.\n",
            "torchvision 0.20.1+cu121 requires torch==2.5.1, but you have torch 2.0.1 which is incompatible.\u001b[0m\u001b[31m\n",
            "\u001b[0mSuccessfully installed lit-18.1.8 nvidia-cublas-cu11-11.10.3.66 nvidia-cuda-cupti-cu11-11.7.101 nvidia-cuda-nvrtc-cu11-11.7.99 nvidia-cuda-runtime-cu11-11.7.99 nvidia-cudnn-cu11-8.5.0.96 nvidia-cufft-cu11-10.9.0.58 nvidia-curand-cu11-10.2.10.91 nvidia-cusolver-cu11-11.4.0.1 nvidia-cusparse-cu11-11.7.4.91 nvidia-nccl-cu11-2.14.3 nvidia-nvtx-cu11-11.7.91 torch-2.0.1 torchdata-0.6.1 torchtext-0.15.2 triton-2.0.0\n"
          ]
        }
      ]
    },
    {
      "cell_type": "code",
      "source": [
        "import torch\n",
        "import torch.nn as nn\n",
        "import torch.nn.functional as F\n",
        "from torch.utils.data import DataLoader, TensorDataset\n",
        "import json\n",
        "import numpy as np\n",
        "import re\n",
        "import string\n",
        "import nltk\n",
        "import pandas as pd\n",
        "import matplotlib.pyplot as plt\n",
        "from tqdm import tqdm"
      ],
      "metadata": {
        "id": "Ls2kEB7QVlHG"
      },
      "execution_count": 1,
      "outputs": []
    },
    {
      "cell_type": "code",
      "source": [
        "nltk.download('punkt')"
      ],
      "metadata": {
        "colab": {
          "base_uri": "https://localhost:8080/"
        },
        "id": "5NLbijLvWbSQ",
        "outputId": "abb6a527-3bfc-43f0-dca7-a8815b9c58a3"
      },
      "execution_count": 2,
      "outputs": [
        {
          "output_type": "stream",
          "name": "stderr",
          "text": [
            "[nltk_data] Downloading package punkt to /root/nltk_data...\n",
            "[nltk_data]   Unzipping tokenizers/punkt.zip.\n"
          ]
        },
        {
          "output_type": "execute_result",
          "data": {
            "text/plain": [
              "True"
            ]
          },
          "metadata": {},
          "execution_count": 2
        }
      ]
    },
    {
      "cell_type": "markdown",
      "source": [
        "# Preprocessing"
      ],
      "metadata": {
        "id": "dv_U1s0Xwrey"
      }
    },
    {
      "cell_type": "code",
      "source": [
        "import nltk\n",
        "from collections import Counter\n",
        "from nltk.tokenize import word_tokenize\n",
        "import re\n",
        "\n",
        "def preprocess_and_remove_punctuation(text):\n",
        "    if text is not None:\n",
        "        text = re.sub(r'[^\\w\\s]', '', text)  # Remove punctuation\n",
        "        return text\n",
        "    else:\n",
        "        return \"\"  # Return empty string for None values\n",
        "\n",
        "# Tokenization and Lowercasing\n",
        "def preprocess(sentences):\n",
        "    tokenized_sentences = [\n",
        "        nltk.word_tokenize(preprocess_and_remove_punctuation(sentence.lower() if sentence is not None else \"\"))\n",
        "        for sentence in sentences\n",
        "    ]\n",
        "    return tokenized_sentences"
      ],
      "metadata": {
        "id": "TazF_Hzuv9nH"
      },
      "execution_count": 3,
      "outputs": []
    },
    {
      "cell_type": "code",
      "source": [
        "def encode_and_pad(vocab, sent, max_length):\n",
        "    sos = [vocab[\"<SOS>\"]]\n",
        "    eos = [vocab[\"<EOS>\"]]\n",
        "    pad = [vocab[\"<PAD>\"]]\n",
        "\n",
        "    if len(sent) < max_length - 2: # -2 for SOS and EOS\n",
        "        n_pads = max_length - 2 - len(sent)\n",
        "        encoded = [vocab[w] for w in sent]\n",
        "        return sos + encoded + eos + pad * n_pads\n",
        "    else: # sent is longer than max_length; truncating\n",
        "        encoded = [vocab[w] for w in sent]\n",
        "        truncated = encoded[:max_length - 2]\n",
        "        return sos + truncated + eos"
      ],
      "metadata": {
        "id": "chkHTLt2wCov"
      },
      "execution_count": 4,
      "outputs": []
    },
    {
      "cell_type": "code",
      "source": [
        "device = torch.device('cuda' if torch.cuda.is_available() else 'cpu')\n",
        "device"
      ],
      "metadata": {
        "colab": {
          "base_uri": "https://localhost:8080/"
        },
        "id": "_J32ceMiwban",
        "outputId": "99ebed8d-eaf4-449e-b9e9-8b60ebf908bb"
      },
      "execution_count": 6,
      "outputs": [
        {
          "output_type": "execute_result",
          "data": {
            "text/plain": [
              "device(type='cuda')"
            ]
          },
          "metadata": {},
          "execution_count": 6
        }
      ]
    },
    {
      "cell_type": "code",
      "source": [
        "hidden_size = 128\n",
        "seq_length = 20\n",
        "batch_size = 50"
      ],
      "metadata": {
        "id": "w5Wykw2Cwdii"
      },
      "execution_count": 7,
      "outputs": []
    },
    {
      "cell_type": "markdown",
      "source": [
        "# Encoder and Decoder with LSTM"
      ],
      "metadata": {
        "id": "VqZybQNcwjg7"
      }
    },
    {
      "cell_type": "code",
      "source": [
        "class EncoderLSTM(nn.Module):\n",
        "    def __init__(self, input_size, hidden_size):\n",
        "        super(EncoderLSTM, self).__init__()\n",
        "        self.hidden_size = hidden_size\n",
        "        self.embedding = nn.Embedding(input_size, hidden_size, padding_idx=0)\n",
        "        self.lstm = nn.LSTM(hidden_size, hidden_size, batch_first=True)\n",
        "\n",
        "    def forward(self, input, hidden):\n",
        "        embedded = self.embedding(input)\n",
        "        output, (hidden, cell) = self.lstm(embedded, hidden)\n",
        "        return output, (hidden, cell)\n",
        "\n",
        "    def initHidden(self, batch_size):  # Corrected to accept batch_size\n",
        "        device = next(self.parameters()).device\n",
        "        hidden = torch.zeros(1, batch_size, self.hidden_size, device=device)\n",
        "        cell = torch.zeros(1, batch_size, self.hidden_size, device=device)\n",
        "        return hidden, cell"
      ],
      "metadata": {
        "id": "ZlS4tk-BwIYZ"
      },
      "execution_count": 8,
      "outputs": []
    },
    {
      "cell_type": "code",
      "source": [
        "class DecoderLSTM(nn.Module):\n",
        "    def __init__(self, hidden_size, output_size):\n",
        "        super(DecoderLSTM, self).__init__()\n",
        "        self.hidden_size = hidden_size\n",
        "        self.embedding = nn.Embedding(output_size, hidden_size, padding_idx=0)\n",
        "        self.lstm = nn.LSTM(hidden_size, hidden_size, batch_first=False)\n",
        "        self.out = nn.Linear(hidden_size, output_size)\n",
        "        self.softmax = nn.LogSoftmax(dim=1)\n",
        "\n",
        "    def forward(self, input, hidden):\n",
        "        output = self.embedding(input)\n",
        "        output = F.relu(output)\n",
        "        output, hidden = self.lstm(output, hidden)\n",
        "        output = self.softmax(self.out(output[0]))\n",
        "        return output, hidden"
      ],
      "metadata": {
        "id": "ZCmJtH7y3Zvp"
      },
      "execution_count": 9,
      "outputs": []
    },
    {
      "cell_type": "markdown",
      "source": [
        "# Loading the data"
      ],
      "metadata": {
        "id": "_PZYzbUBwwmc"
      }
    },
    {
      "cell_type": "code",
      "source": [
        "import json\n",
        "\n",
        "# Open the file in read mode ('r')\n",
        "with open('train_data1.json', 'r') as file:\n",
        "    # Load JSON data from the file\n",
        "    train_data = json.load(file)"
      ],
      "metadata": {
        "id": "aOSatAuMWcV4"
      },
      "execution_count": 6,
      "outputs": []
    },
    {
      "cell_type": "code",
      "source": [
        "from google.colab import drive\n",
        "drive.mount('/content/drive')"
      ],
      "metadata": {
        "colab": {
          "base_uri": "https://localhost:8080/"
        },
        "id": "TSM265YoWu1i",
        "outputId": "2cf6b66c-46e5-4c29-d979-b3e4c307b11c"
      },
      "execution_count": 11,
      "outputs": [
        {
          "output_type": "stream",
          "name": "stdout",
          "text": [
            "Mounted at /content/drive\n"
          ]
        }
      ]
    },
    {
      "cell_type": "markdown",
      "source": [
        "In testing phase, substitute val_data1.json with test_data1_final.json"
      ],
      "metadata": {
        "id": "F-emB0VwcWqQ"
      }
    },
    {
      "cell_type": "code",
      "source": [
        "import json\n",
        "\n",
        "# Open the file in read mode ('r')\n",
        "with open('test_data1_final.json', 'r') as file:\n",
        "    # Load JSON data from the file\n",
        "    val_data = json.load(file)"
      ],
      "metadata": {
        "id": "4fG_HMegcVI2"
      },
      "execution_count": 7,
      "outputs": []
    },
    {
      "cell_type": "code",
      "source": [
        "for language_pair, language_data in train_data.items():\n",
        "  print(f\"Language Pair: {language_pair}\")"
      ],
      "metadata": {
        "colab": {
          "base_uri": "https://localhost:8080/"
        },
        "id": "LYwZ9fYlWzKP",
        "outputId": "6a3adc34-193c-4ab3-cb17-512658be1732"
      },
      "execution_count": 8,
      "outputs": [
        {
          "output_type": "stream",
          "name": "stdout",
          "text": [
            "Language Pair: English-Bengali\n",
            "Language Pair: English-Hindi\n"
          ]
        }
      ]
    },
    {
      "cell_type": "markdown",
      "source": [
        "# English --> Hindi"
      ],
      "metadata": {
        "id": "YoMs1EYiw3tP"
      }
    },
    {
      "cell_type": "code",
      "source": [
        "# Prepare training and validation data\n",
        "source_sentences_train = []\n",
        "target_sentences_train = []\n",
        "source_sentences_val = []\n",
        "target_sentences_val = []\n",
        "id_train = []\n",
        "id_val = []"
      ],
      "metadata": {
        "id": "wkNKNoCQWW7n"
      },
      "execution_count": 9,
      "outputs": []
    },
    {
      "cell_type": "code",
      "source": [
        "for language_pair, language_data in train_data.items():\n",
        "    if language_pair == \"English-Hindi\":\n",
        "        for data_type, data_entries in language_data.items():\n",
        "            for entry_id, entry_data in data_entries.items():\n",
        "                source = entry_data[\"source\"]\n",
        "                target = entry_data[\"target\"]\n",
        "                if data_type == \"Validation\":\n",
        "                    source_sentences_val.append(source)\n",
        "                    target_sentences_val.append(target)\n",
        "                    id_val.append(entry_id)\n",
        "                else:\n",
        "                    source_sentences_train.append(source)\n",
        "                    target_sentences_train.append(target)\n",
        "                    id_train.append(entry_id)"
      ],
      "metadata": {
        "id": "H0zf2ZVuWQqJ"
      },
      "execution_count": 10,
      "outputs": []
    },
    {
      "cell_type": "code",
      "source": [
        "for language_pair, language_data in val_data.items():\n",
        "    if(language_pair == \"English-Hindi\"):\n",
        "      print(f\"Language Pair: {language_pair}\")\n",
        "      for data_type, data_entries in language_data.items():\n",
        "          print(f\"  Data Type: {data_type}\")\n",
        "          for entry_id, entry_data in data_entries.items():\n",
        "              source = entry_data[\"source\"]\n",
        "              #target = entry_data[\"target\"]\n",
        "              if (data_type == \"Test\"):\n",
        "                source_sentences_val.append(source)\n",
        "                #target_sentences_val.append(target)\n",
        "                #id_val.append(entry_id)\n",
        "              #else:\n",
        "                #source_sentences_train.append(source)\n",
        "                #target_sentences_train.append(target)\n",
        "                #id_train.append(entry_id)"
      ],
      "metadata": {
        "id": "07zh1cT69d4k",
        "colab": {
          "base_uri": "https://localhost:8080/"
        },
        "outputId": "c3cb674d-1345-4f6a-f896-378b94337432"
      },
      "execution_count": 11,
      "outputs": [
        {
          "output_type": "stream",
          "name": "stdout",
          "text": [
            "Language Pair: English-Hindi\n",
            "  Data Type: Test\n"
          ]
        }
      ]
    },
    {
      "cell_type": "code",
      "source": [
        "print(len(source_sentences_train))\n",
        "print(len(target_sentences_train))\n",
        "\n",
        "print(len(source_sentences_val))\n",
        "print(len(target_sentences_val))"
      ],
      "metadata": {
        "colab": {
          "base_uri": "https://localhost:8080/"
        },
        "id": "moVRss23QeWE",
        "outputId": "a958e6b2-d13e-4590-ab59-dac7cf5ad5f3"
      },
      "execution_count": 12,
      "outputs": [
        {
          "output_type": "stream",
          "name": "stdout",
          "text": [
            "80797\n",
            "80797\n",
            "23085\n",
            "0\n"
          ]
        }
      ]
    },
    {
      "cell_type": "code",
      "source": [
        "val_h = pd.DataFrame({'English':source_sentences_val, 'Hindi': [None]*len(source_sentences_val)})"
      ],
      "metadata": {
        "id": "metsqlEeUdoC"
      },
      "execution_count": 13,
      "outputs": []
    },
    {
      "cell_type": "code",
      "source": [
        "val_h"
      ],
      "metadata": {
        "colab": {
          "base_uri": "https://localhost:8080/",
          "height": 423
        },
        "id": "-XYCSDHHVBqP",
        "outputId": "62a3d4d1-6389-4b1a-ccdc-394aac9840bf"
      },
      "execution_count": 14,
      "outputs": [
        {
          "output_type": "execute_result",
          "data": {
            "text/plain": [
              "                                                 English Hindi\n",
              "0      And then we need to assure students that a com...  None\n",
              "1      what is the address for the event scheduled on...  None\n",
              "2      Indira Gandhi National Park is spread in an ar...  None\n",
              "3      Local musicians also attracted the King's atte...  None\n",
              "4                 Of course, do some more stuff on this.  None\n",
              "...                                                  ...   ...\n",
              "23080  send an email to peter and ask him how is he n...  None\n",
              "23081  At Bose ' s initiative , the Government of Ori...  None\n",
              "23082  v.After initial opening, store H2O2 at 4oC in ...  None\n",
              "23083  Holding the claw of the left leg with both han...  None\n",
              "23084                        our water bill was too high  None\n",
              "\n",
              "[23085 rows x 2 columns]"
            ],
            "text/html": [
              "\n",
              "  <div id=\"df-3ee8f0e8-d57b-4584-8efc-2d4aaf530d13\" class=\"colab-df-container\">\n",
              "    <div>\n",
              "<style scoped>\n",
              "    .dataframe tbody tr th:only-of-type {\n",
              "        vertical-align: middle;\n",
              "    }\n",
              "\n",
              "    .dataframe tbody tr th {\n",
              "        vertical-align: top;\n",
              "    }\n",
              "\n",
              "    .dataframe thead th {\n",
              "        text-align: right;\n",
              "    }\n",
              "</style>\n",
              "<table border=\"1\" class=\"dataframe\">\n",
              "  <thead>\n",
              "    <tr style=\"text-align: right;\">\n",
              "      <th></th>\n",
              "      <th>English</th>\n",
              "      <th>Hindi</th>\n",
              "    </tr>\n",
              "  </thead>\n",
              "  <tbody>\n",
              "    <tr>\n",
              "      <th>0</th>\n",
              "      <td>And then we need to assure students that a com...</td>\n",
              "      <td>None</td>\n",
              "    </tr>\n",
              "    <tr>\n",
              "      <th>1</th>\n",
              "      <td>what is the address for the event scheduled on...</td>\n",
              "      <td>None</td>\n",
              "    </tr>\n",
              "    <tr>\n",
              "      <th>2</th>\n",
              "      <td>Indira Gandhi National Park is spread in an ar...</td>\n",
              "      <td>None</td>\n",
              "    </tr>\n",
              "    <tr>\n",
              "      <th>3</th>\n",
              "      <td>Local musicians also attracted the King's atte...</td>\n",
              "      <td>None</td>\n",
              "    </tr>\n",
              "    <tr>\n",
              "      <th>4</th>\n",
              "      <td>Of course, do some more stuff on this.</td>\n",
              "      <td>None</td>\n",
              "    </tr>\n",
              "    <tr>\n",
              "      <th>...</th>\n",
              "      <td>...</td>\n",
              "      <td>...</td>\n",
              "    </tr>\n",
              "    <tr>\n",
              "      <th>23080</th>\n",
              "      <td>send an email to peter and ask him how is he n...</td>\n",
              "      <td>None</td>\n",
              "    </tr>\n",
              "    <tr>\n",
              "      <th>23081</th>\n",
              "      <td>At Bose ' s initiative , the Government of Ori...</td>\n",
              "      <td>None</td>\n",
              "    </tr>\n",
              "    <tr>\n",
              "      <th>23082</th>\n",
              "      <td>v.After initial opening, store H2O2 at 4oC in ...</td>\n",
              "      <td>None</td>\n",
              "    </tr>\n",
              "    <tr>\n",
              "      <th>23083</th>\n",
              "      <td>Holding the claw of the left leg with both han...</td>\n",
              "      <td>None</td>\n",
              "    </tr>\n",
              "    <tr>\n",
              "      <th>23084</th>\n",
              "      <td>our water bill was too high</td>\n",
              "      <td>None</td>\n",
              "    </tr>\n",
              "  </tbody>\n",
              "</table>\n",
              "<p>23085 rows × 2 columns</p>\n",
              "</div>\n",
              "    <div class=\"colab-df-buttons\">\n",
              "\n",
              "  <div class=\"colab-df-container\">\n",
              "    <button class=\"colab-df-convert\" onclick=\"convertToInteractive('df-3ee8f0e8-d57b-4584-8efc-2d4aaf530d13')\"\n",
              "            title=\"Convert this dataframe to an interactive table.\"\n",
              "            style=\"display:none;\">\n",
              "\n",
              "  <svg xmlns=\"http://www.w3.org/2000/svg\" height=\"24px\" viewBox=\"0 -960 960 960\">\n",
              "    <path d=\"M120-120v-720h720v720H120Zm60-500h600v-160H180v160Zm220 220h160v-160H400v160Zm0 220h160v-160H400v160ZM180-400h160v-160H180v160Zm440 0h160v-160H620v160ZM180-180h160v-160H180v160Zm440 0h160v-160H620v160Z\"/>\n",
              "  </svg>\n",
              "    </button>\n",
              "\n",
              "  <style>\n",
              "    .colab-df-container {\n",
              "      display:flex;\n",
              "      gap: 12px;\n",
              "    }\n",
              "\n",
              "    .colab-df-convert {\n",
              "      background-color: #E8F0FE;\n",
              "      border: none;\n",
              "      border-radius: 50%;\n",
              "      cursor: pointer;\n",
              "      display: none;\n",
              "      fill: #1967D2;\n",
              "      height: 32px;\n",
              "      padding: 0 0 0 0;\n",
              "      width: 32px;\n",
              "    }\n",
              "\n",
              "    .colab-df-convert:hover {\n",
              "      background-color: #E2EBFA;\n",
              "      box-shadow: 0px 1px 2px rgba(60, 64, 67, 0.3), 0px 1px 3px 1px rgba(60, 64, 67, 0.15);\n",
              "      fill: #174EA6;\n",
              "    }\n",
              "\n",
              "    .colab-df-buttons div {\n",
              "      margin-bottom: 4px;\n",
              "    }\n",
              "\n",
              "    [theme=dark] .colab-df-convert {\n",
              "      background-color: #3B4455;\n",
              "      fill: #D2E3FC;\n",
              "    }\n",
              "\n",
              "    [theme=dark] .colab-df-convert:hover {\n",
              "      background-color: #434B5C;\n",
              "      box-shadow: 0px 1px 3px 1px rgba(0, 0, 0, 0.15);\n",
              "      filter: drop-shadow(0px 1px 2px rgba(0, 0, 0, 0.3));\n",
              "      fill: #FFFFFF;\n",
              "    }\n",
              "  </style>\n",
              "\n",
              "    <script>\n",
              "      const buttonEl =\n",
              "        document.querySelector('#df-3ee8f0e8-d57b-4584-8efc-2d4aaf530d13 button.colab-df-convert');\n",
              "      buttonEl.style.display =\n",
              "        google.colab.kernel.accessAllowed ? 'block' : 'none';\n",
              "\n",
              "      async function convertToInteractive(key) {\n",
              "        const element = document.querySelector('#df-3ee8f0e8-d57b-4584-8efc-2d4aaf530d13');\n",
              "        const dataTable =\n",
              "          await google.colab.kernel.invokeFunction('convertToInteractive',\n",
              "                                                    [key], {});\n",
              "        if (!dataTable) return;\n",
              "\n",
              "        const docLinkHtml = 'Like what you see? Visit the ' +\n",
              "          '<a target=\"_blank\" href=https://colab.research.google.com/notebooks/data_table.ipynb>data table notebook</a>'\n",
              "          + ' to learn more about interactive tables.';\n",
              "        element.innerHTML = '';\n",
              "        dataTable['output_type'] = 'display_data';\n",
              "        await google.colab.output.renderOutput(dataTable, element);\n",
              "        const docLink = document.createElement('div');\n",
              "        docLink.innerHTML = docLinkHtml;\n",
              "        element.appendChild(docLink);\n",
              "      }\n",
              "    </script>\n",
              "  </div>\n",
              "\n",
              "\n",
              "<div id=\"df-39b73df8-b796-410a-8cf2-2f786b6926e3\">\n",
              "  <button class=\"colab-df-quickchart\" onclick=\"quickchart('df-39b73df8-b796-410a-8cf2-2f786b6926e3')\"\n",
              "            title=\"Suggest charts\"\n",
              "            style=\"display:none;\">\n",
              "\n",
              "<svg xmlns=\"http://www.w3.org/2000/svg\" height=\"24px\"viewBox=\"0 0 24 24\"\n",
              "     width=\"24px\">\n",
              "    <g>\n",
              "        <path d=\"M19 3H5c-1.1 0-2 .9-2 2v14c0 1.1.9 2 2 2h14c1.1 0 2-.9 2-2V5c0-1.1-.9-2-2-2zM9 17H7v-7h2v7zm4 0h-2V7h2v10zm4 0h-2v-4h2v4z\"/>\n",
              "    </g>\n",
              "</svg>\n",
              "  </button>\n",
              "\n",
              "<style>\n",
              "  .colab-df-quickchart {\n",
              "      --bg-color: #E8F0FE;\n",
              "      --fill-color: #1967D2;\n",
              "      --hover-bg-color: #E2EBFA;\n",
              "      --hover-fill-color: #174EA6;\n",
              "      --disabled-fill-color: #AAA;\n",
              "      --disabled-bg-color: #DDD;\n",
              "  }\n",
              "\n",
              "  [theme=dark] .colab-df-quickchart {\n",
              "      --bg-color: #3B4455;\n",
              "      --fill-color: #D2E3FC;\n",
              "      --hover-bg-color: #434B5C;\n",
              "      --hover-fill-color: #FFFFFF;\n",
              "      --disabled-bg-color: #3B4455;\n",
              "      --disabled-fill-color: #666;\n",
              "  }\n",
              "\n",
              "  .colab-df-quickchart {\n",
              "    background-color: var(--bg-color);\n",
              "    border: none;\n",
              "    border-radius: 50%;\n",
              "    cursor: pointer;\n",
              "    display: none;\n",
              "    fill: var(--fill-color);\n",
              "    height: 32px;\n",
              "    padding: 0;\n",
              "    width: 32px;\n",
              "  }\n",
              "\n",
              "  .colab-df-quickchart:hover {\n",
              "    background-color: var(--hover-bg-color);\n",
              "    box-shadow: 0 1px 2px rgba(60, 64, 67, 0.3), 0 1px 3px 1px rgba(60, 64, 67, 0.15);\n",
              "    fill: var(--button-hover-fill-color);\n",
              "  }\n",
              "\n",
              "  .colab-df-quickchart-complete:disabled,\n",
              "  .colab-df-quickchart-complete:disabled:hover {\n",
              "    background-color: var(--disabled-bg-color);\n",
              "    fill: var(--disabled-fill-color);\n",
              "    box-shadow: none;\n",
              "  }\n",
              "\n",
              "  .colab-df-spinner {\n",
              "    border: 2px solid var(--fill-color);\n",
              "    border-color: transparent;\n",
              "    border-bottom-color: var(--fill-color);\n",
              "    animation:\n",
              "      spin 1s steps(1) infinite;\n",
              "  }\n",
              "\n",
              "  @keyframes spin {\n",
              "    0% {\n",
              "      border-color: transparent;\n",
              "      border-bottom-color: var(--fill-color);\n",
              "      border-left-color: var(--fill-color);\n",
              "    }\n",
              "    20% {\n",
              "      border-color: transparent;\n",
              "      border-left-color: var(--fill-color);\n",
              "      border-top-color: var(--fill-color);\n",
              "    }\n",
              "    30% {\n",
              "      border-color: transparent;\n",
              "      border-left-color: var(--fill-color);\n",
              "      border-top-color: var(--fill-color);\n",
              "      border-right-color: var(--fill-color);\n",
              "    }\n",
              "    40% {\n",
              "      border-color: transparent;\n",
              "      border-right-color: var(--fill-color);\n",
              "      border-top-color: var(--fill-color);\n",
              "    }\n",
              "    60% {\n",
              "      border-color: transparent;\n",
              "      border-right-color: var(--fill-color);\n",
              "    }\n",
              "    80% {\n",
              "      border-color: transparent;\n",
              "      border-right-color: var(--fill-color);\n",
              "      border-bottom-color: var(--fill-color);\n",
              "    }\n",
              "    90% {\n",
              "      border-color: transparent;\n",
              "      border-bottom-color: var(--fill-color);\n",
              "    }\n",
              "  }\n",
              "</style>\n",
              "\n",
              "  <script>\n",
              "    async function quickchart(key) {\n",
              "      const quickchartButtonEl =\n",
              "        document.querySelector('#' + key + ' button');\n",
              "      quickchartButtonEl.disabled = true;  // To prevent multiple clicks.\n",
              "      quickchartButtonEl.classList.add('colab-df-spinner');\n",
              "      try {\n",
              "        const charts = await google.colab.kernel.invokeFunction(\n",
              "            'suggestCharts', [key], {});\n",
              "      } catch (error) {\n",
              "        console.error('Error during call to suggestCharts:', error);\n",
              "      }\n",
              "      quickchartButtonEl.classList.remove('colab-df-spinner');\n",
              "      quickchartButtonEl.classList.add('colab-df-quickchart-complete');\n",
              "    }\n",
              "    (() => {\n",
              "      let quickchartButtonEl =\n",
              "        document.querySelector('#df-39b73df8-b796-410a-8cf2-2f786b6926e3 button');\n",
              "      quickchartButtonEl.style.display =\n",
              "        google.colab.kernel.accessAllowed ? 'block' : 'none';\n",
              "    })();\n",
              "  </script>\n",
              "</div>\n",
              "\n",
              "  <div id=\"id_94795099-c80e-4f73-a10c-be287244ae15\">\n",
              "    <style>\n",
              "      .colab-df-generate {\n",
              "        background-color: #E8F0FE;\n",
              "        border: none;\n",
              "        border-radius: 50%;\n",
              "        cursor: pointer;\n",
              "        display: none;\n",
              "        fill: #1967D2;\n",
              "        height: 32px;\n",
              "        padding: 0 0 0 0;\n",
              "        width: 32px;\n",
              "      }\n",
              "\n",
              "      .colab-df-generate:hover {\n",
              "        background-color: #E2EBFA;\n",
              "        box-shadow: 0px 1px 2px rgba(60, 64, 67, 0.3), 0px 1px 3px 1px rgba(60, 64, 67, 0.15);\n",
              "        fill: #174EA6;\n",
              "      }\n",
              "\n",
              "      [theme=dark] .colab-df-generate {\n",
              "        background-color: #3B4455;\n",
              "        fill: #D2E3FC;\n",
              "      }\n",
              "\n",
              "      [theme=dark] .colab-df-generate:hover {\n",
              "        background-color: #434B5C;\n",
              "        box-shadow: 0px 1px 3px 1px rgba(0, 0, 0, 0.15);\n",
              "        filter: drop-shadow(0px 1px 2px rgba(0, 0, 0, 0.3));\n",
              "        fill: #FFFFFF;\n",
              "      }\n",
              "    </style>\n",
              "    <button class=\"colab-df-generate\" onclick=\"generateWithVariable('val_h')\"\n",
              "            title=\"Generate code using this dataframe.\"\n",
              "            style=\"display:none;\">\n",
              "\n",
              "  <svg xmlns=\"http://www.w3.org/2000/svg\" height=\"24px\"viewBox=\"0 0 24 24\"\n",
              "       width=\"24px\">\n",
              "    <path d=\"M7,19H8.4L18.45,9,17,7.55,7,17.6ZM5,21V16.75L18.45,3.32a2,2,0,0,1,2.83,0l1.4,1.43a1.91,1.91,0,0,1,.58,1.4,1.91,1.91,0,0,1-.58,1.4L9.25,21ZM18.45,9,17,7.55Zm-12,3A5.31,5.31,0,0,0,4.9,8.1,5.31,5.31,0,0,0,1,6.5,5.31,5.31,0,0,0,4.9,4.9,5.31,5.31,0,0,0,6.5,1,5.31,5.31,0,0,0,8.1,4.9,5.31,5.31,0,0,0,12,6.5,5.46,5.46,0,0,0,6.5,12Z\"/>\n",
              "  </svg>\n",
              "    </button>\n",
              "    <script>\n",
              "      (() => {\n",
              "      const buttonEl =\n",
              "        document.querySelector('#id_94795099-c80e-4f73-a10c-be287244ae15 button.colab-df-generate');\n",
              "      buttonEl.style.display =\n",
              "        google.colab.kernel.accessAllowed ? 'block' : 'none';\n",
              "\n",
              "      buttonEl.onclick = () => {\n",
              "        google.colab.notebook.generateWithVariable('val_h');\n",
              "      }\n",
              "      })();\n",
              "    </script>\n",
              "  </div>\n",
              "\n",
              "    </div>\n",
              "  </div>\n"
            ],
            "application/vnd.google.colaboratory.intrinsic+json": {
              "type": "dataframe",
              "variable_name": "val_h",
              "repr_error": "Out of range float values are not JSON compliant: nan"
            }
          },
          "metadata": {},
          "execution_count": 14
        }
      ]
    },
    {
      "cell_type": "code",
      "source": [
        "x={'English':source_sentences_train,'Hindi':target_sentences_train}"
      ],
      "metadata": {
        "id": "C8xVYOhKQhUT"
      },
      "execution_count": 15,
      "outputs": []
    },
    {
      "cell_type": "code",
      "source": [
        "df_h = pd.DataFrame(x)"
      ],
      "metadata": {
        "id": "wYfYXVhgQiDj"
      },
      "execution_count": 16,
      "outputs": []
    },
    {
      "cell_type": "code",
      "source": [
        "df_h"
      ],
      "metadata": {
        "colab": {
          "base_uri": "https://localhost:8080/",
          "height": 423
        },
        "id": "eCitiEt8Qlp5",
        "outputId": "cf2c7b60-911b-425a-ce36-0219d4231e3e"
      },
      "execution_count": 17,
      "outputs": [
        {
          "output_type": "execute_result",
          "data": {
            "text/plain": [
              "                                                 English  \\\n",
              "0                       cancel everything on my calendar   \n",
              "1      Adrenal hormone levels are at their peak durin...   \n",
              "2      Golden threads are obtained from Surat, the qu...   \n",
              "3              Look for agglutination within 30 seconds.   \n",
              "4      The non-pompousness and informality of their l...   \n",
              "...                                                  ...   \n",
              "80792  So, is it that this is the optimization proble...   \n",
              "80793  In this Masjid made with red stones there are ...   \n",
              "80794  He began to work on the movie on August 17, 20...   \n",
              "80795                          start a new shopping list   \n",
              "80796                 turn off the lights in the kitchen   \n",
              "\n",
              "                                                   Hindi  \n",
              "0                       मेरे कैलेंडर पर सब कुछ रद्द करें  \n",
              "1      अधिवृक्क के हार्मोन का स्तर प्रातःकाल में अपने...  \n",
              "2      स्वर्ण धागे सूरत से प्राप्त होते हैं, जिनकी गु...  \n",
              "3                  30 सेकेण्ड के भीतर एग्लूटिनेशन देखें।  \n",
              "4      उनके जीवन की आडंबरहीनता एवं अनौपचारिकता उनके स...  \n",
              "...                                                  ...  \n",
              "80792   तो, यह अनुकूलन समस्या है जिसमें हम रुचि रखते थे।  \n",
              "80793  लाल पत्थरों से बनायी गयी इस मस्जिद में हिन्दू ...  \n",
              "80794  उन्होंने 17 अगस्त, 2010 को फिल्म पर काम करना श...  \n",
              "80795                       एक नई खरीदारी सूची शुरू करें  \n",
              "80796                        रसोईघर की बत्तियाँ बंद करें  \n",
              "\n",
              "[80797 rows x 2 columns]"
            ],
            "text/html": [
              "\n",
              "  <div id=\"df-10ad9402-8dd9-4dcc-a0b1-3b5c6afa078a\" class=\"colab-df-container\">\n",
              "    <div>\n",
              "<style scoped>\n",
              "    .dataframe tbody tr th:only-of-type {\n",
              "        vertical-align: middle;\n",
              "    }\n",
              "\n",
              "    .dataframe tbody tr th {\n",
              "        vertical-align: top;\n",
              "    }\n",
              "\n",
              "    .dataframe thead th {\n",
              "        text-align: right;\n",
              "    }\n",
              "</style>\n",
              "<table border=\"1\" class=\"dataframe\">\n",
              "  <thead>\n",
              "    <tr style=\"text-align: right;\">\n",
              "      <th></th>\n",
              "      <th>English</th>\n",
              "      <th>Hindi</th>\n",
              "    </tr>\n",
              "  </thead>\n",
              "  <tbody>\n",
              "    <tr>\n",
              "      <th>0</th>\n",
              "      <td>cancel everything on my calendar</td>\n",
              "      <td>मेरे कैलेंडर पर सब कुछ रद्द करें</td>\n",
              "    </tr>\n",
              "    <tr>\n",
              "      <th>1</th>\n",
              "      <td>Adrenal hormone levels are at their peak durin...</td>\n",
              "      <td>अधिवृक्क के हार्मोन का स्तर प्रातःकाल में अपने...</td>\n",
              "    </tr>\n",
              "    <tr>\n",
              "      <th>2</th>\n",
              "      <td>Golden threads are obtained from Surat, the qu...</td>\n",
              "      <td>स्वर्ण धागे सूरत से प्राप्त होते हैं, जिनकी गु...</td>\n",
              "    </tr>\n",
              "    <tr>\n",
              "      <th>3</th>\n",
              "      <td>Look for agglutination within 30 seconds.</td>\n",
              "      <td>30 सेकेण्ड के भीतर एग्लूटिनेशन देखें।</td>\n",
              "    </tr>\n",
              "    <tr>\n",
              "      <th>4</th>\n",
              "      <td>The non-pompousness and informality of their l...</td>\n",
              "      <td>उनके जीवन की आडंबरहीनता एवं अनौपचारिकता उनके स...</td>\n",
              "    </tr>\n",
              "    <tr>\n",
              "      <th>...</th>\n",
              "      <td>...</td>\n",
              "      <td>...</td>\n",
              "    </tr>\n",
              "    <tr>\n",
              "      <th>80792</th>\n",
              "      <td>So, is it that this is the optimization proble...</td>\n",
              "      <td>तो, यह अनुकूलन समस्या है जिसमें हम रुचि रखते थे।</td>\n",
              "    </tr>\n",
              "    <tr>\n",
              "      <th>80793</th>\n",
              "      <td>In this Masjid made with red stones there are ...</td>\n",
              "      <td>लाल पत्थरों से बनायी गयी इस मस्जिद में हिन्दू ...</td>\n",
              "    </tr>\n",
              "    <tr>\n",
              "      <th>80794</th>\n",
              "      <td>He began to work on the movie on August 17, 20...</td>\n",
              "      <td>उन्होंने 17 अगस्त, 2010 को फिल्म पर काम करना श...</td>\n",
              "    </tr>\n",
              "    <tr>\n",
              "      <th>80795</th>\n",
              "      <td>start a new shopping list</td>\n",
              "      <td>एक नई खरीदारी सूची शुरू करें</td>\n",
              "    </tr>\n",
              "    <tr>\n",
              "      <th>80796</th>\n",
              "      <td>turn off the lights in the kitchen</td>\n",
              "      <td>रसोईघर की बत्तियाँ बंद करें</td>\n",
              "    </tr>\n",
              "  </tbody>\n",
              "</table>\n",
              "<p>80797 rows × 2 columns</p>\n",
              "</div>\n",
              "    <div class=\"colab-df-buttons\">\n",
              "\n",
              "  <div class=\"colab-df-container\">\n",
              "    <button class=\"colab-df-convert\" onclick=\"convertToInteractive('df-10ad9402-8dd9-4dcc-a0b1-3b5c6afa078a')\"\n",
              "            title=\"Convert this dataframe to an interactive table.\"\n",
              "            style=\"display:none;\">\n",
              "\n",
              "  <svg xmlns=\"http://www.w3.org/2000/svg\" height=\"24px\" viewBox=\"0 -960 960 960\">\n",
              "    <path d=\"M120-120v-720h720v720H120Zm60-500h600v-160H180v160Zm220 220h160v-160H400v160Zm0 220h160v-160H400v160ZM180-400h160v-160H180v160Zm440 0h160v-160H620v160ZM180-180h160v-160H180v160Zm440 0h160v-160H620v160Z\"/>\n",
              "  </svg>\n",
              "    </button>\n",
              "\n",
              "  <style>\n",
              "    .colab-df-container {\n",
              "      display:flex;\n",
              "      gap: 12px;\n",
              "    }\n",
              "\n",
              "    .colab-df-convert {\n",
              "      background-color: #E8F0FE;\n",
              "      border: none;\n",
              "      border-radius: 50%;\n",
              "      cursor: pointer;\n",
              "      display: none;\n",
              "      fill: #1967D2;\n",
              "      height: 32px;\n",
              "      padding: 0 0 0 0;\n",
              "      width: 32px;\n",
              "    }\n",
              "\n",
              "    .colab-df-convert:hover {\n",
              "      background-color: #E2EBFA;\n",
              "      box-shadow: 0px 1px 2px rgba(60, 64, 67, 0.3), 0px 1px 3px 1px rgba(60, 64, 67, 0.15);\n",
              "      fill: #174EA6;\n",
              "    }\n",
              "\n",
              "    .colab-df-buttons div {\n",
              "      margin-bottom: 4px;\n",
              "    }\n",
              "\n",
              "    [theme=dark] .colab-df-convert {\n",
              "      background-color: #3B4455;\n",
              "      fill: #D2E3FC;\n",
              "    }\n",
              "\n",
              "    [theme=dark] .colab-df-convert:hover {\n",
              "      background-color: #434B5C;\n",
              "      box-shadow: 0px 1px 3px 1px rgba(0, 0, 0, 0.15);\n",
              "      filter: drop-shadow(0px 1px 2px rgba(0, 0, 0, 0.3));\n",
              "      fill: #FFFFFF;\n",
              "    }\n",
              "  </style>\n",
              "\n",
              "    <script>\n",
              "      const buttonEl =\n",
              "        document.querySelector('#df-10ad9402-8dd9-4dcc-a0b1-3b5c6afa078a button.colab-df-convert');\n",
              "      buttonEl.style.display =\n",
              "        google.colab.kernel.accessAllowed ? 'block' : 'none';\n",
              "\n",
              "      async function convertToInteractive(key) {\n",
              "        const element = document.querySelector('#df-10ad9402-8dd9-4dcc-a0b1-3b5c6afa078a');\n",
              "        const dataTable =\n",
              "          await google.colab.kernel.invokeFunction('convertToInteractive',\n",
              "                                                    [key], {});\n",
              "        if (!dataTable) return;\n",
              "\n",
              "        const docLinkHtml = 'Like what you see? Visit the ' +\n",
              "          '<a target=\"_blank\" href=https://colab.research.google.com/notebooks/data_table.ipynb>data table notebook</a>'\n",
              "          + ' to learn more about interactive tables.';\n",
              "        element.innerHTML = '';\n",
              "        dataTable['output_type'] = 'display_data';\n",
              "        await google.colab.output.renderOutput(dataTable, element);\n",
              "        const docLink = document.createElement('div');\n",
              "        docLink.innerHTML = docLinkHtml;\n",
              "        element.appendChild(docLink);\n",
              "      }\n",
              "    </script>\n",
              "  </div>\n",
              "\n",
              "\n",
              "<div id=\"df-b4f9a0ab-caad-4bc4-87f5-07764b69963e\">\n",
              "  <button class=\"colab-df-quickchart\" onclick=\"quickchart('df-b4f9a0ab-caad-4bc4-87f5-07764b69963e')\"\n",
              "            title=\"Suggest charts\"\n",
              "            style=\"display:none;\">\n",
              "\n",
              "<svg xmlns=\"http://www.w3.org/2000/svg\" height=\"24px\"viewBox=\"0 0 24 24\"\n",
              "     width=\"24px\">\n",
              "    <g>\n",
              "        <path d=\"M19 3H5c-1.1 0-2 .9-2 2v14c0 1.1.9 2 2 2h14c1.1 0 2-.9 2-2V5c0-1.1-.9-2-2-2zM9 17H7v-7h2v7zm4 0h-2V7h2v10zm4 0h-2v-4h2v4z\"/>\n",
              "    </g>\n",
              "</svg>\n",
              "  </button>\n",
              "\n",
              "<style>\n",
              "  .colab-df-quickchart {\n",
              "      --bg-color: #E8F0FE;\n",
              "      --fill-color: #1967D2;\n",
              "      --hover-bg-color: #E2EBFA;\n",
              "      --hover-fill-color: #174EA6;\n",
              "      --disabled-fill-color: #AAA;\n",
              "      --disabled-bg-color: #DDD;\n",
              "  }\n",
              "\n",
              "  [theme=dark] .colab-df-quickchart {\n",
              "      --bg-color: #3B4455;\n",
              "      --fill-color: #D2E3FC;\n",
              "      --hover-bg-color: #434B5C;\n",
              "      --hover-fill-color: #FFFFFF;\n",
              "      --disabled-bg-color: #3B4455;\n",
              "      --disabled-fill-color: #666;\n",
              "  }\n",
              "\n",
              "  .colab-df-quickchart {\n",
              "    background-color: var(--bg-color);\n",
              "    border: none;\n",
              "    border-radius: 50%;\n",
              "    cursor: pointer;\n",
              "    display: none;\n",
              "    fill: var(--fill-color);\n",
              "    height: 32px;\n",
              "    padding: 0;\n",
              "    width: 32px;\n",
              "  }\n",
              "\n",
              "  .colab-df-quickchart:hover {\n",
              "    background-color: var(--hover-bg-color);\n",
              "    box-shadow: 0 1px 2px rgba(60, 64, 67, 0.3), 0 1px 3px 1px rgba(60, 64, 67, 0.15);\n",
              "    fill: var(--button-hover-fill-color);\n",
              "  }\n",
              "\n",
              "  .colab-df-quickchart-complete:disabled,\n",
              "  .colab-df-quickchart-complete:disabled:hover {\n",
              "    background-color: var(--disabled-bg-color);\n",
              "    fill: var(--disabled-fill-color);\n",
              "    box-shadow: none;\n",
              "  }\n",
              "\n",
              "  .colab-df-spinner {\n",
              "    border: 2px solid var(--fill-color);\n",
              "    border-color: transparent;\n",
              "    border-bottom-color: var(--fill-color);\n",
              "    animation:\n",
              "      spin 1s steps(1) infinite;\n",
              "  }\n",
              "\n",
              "  @keyframes spin {\n",
              "    0% {\n",
              "      border-color: transparent;\n",
              "      border-bottom-color: var(--fill-color);\n",
              "      border-left-color: var(--fill-color);\n",
              "    }\n",
              "    20% {\n",
              "      border-color: transparent;\n",
              "      border-left-color: var(--fill-color);\n",
              "      border-top-color: var(--fill-color);\n",
              "    }\n",
              "    30% {\n",
              "      border-color: transparent;\n",
              "      border-left-color: var(--fill-color);\n",
              "      border-top-color: var(--fill-color);\n",
              "      border-right-color: var(--fill-color);\n",
              "    }\n",
              "    40% {\n",
              "      border-color: transparent;\n",
              "      border-right-color: var(--fill-color);\n",
              "      border-top-color: var(--fill-color);\n",
              "    }\n",
              "    60% {\n",
              "      border-color: transparent;\n",
              "      border-right-color: var(--fill-color);\n",
              "    }\n",
              "    80% {\n",
              "      border-color: transparent;\n",
              "      border-right-color: var(--fill-color);\n",
              "      border-bottom-color: var(--fill-color);\n",
              "    }\n",
              "    90% {\n",
              "      border-color: transparent;\n",
              "      border-bottom-color: var(--fill-color);\n",
              "    }\n",
              "  }\n",
              "</style>\n",
              "\n",
              "  <script>\n",
              "    async function quickchart(key) {\n",
              "      const quickchartButtonEl =\n",
              "        document.querySelector('#' + key + ' button');\n",
              "      quickchartButtonEl.disabled = true;  // To prevent multiple clicks.\n",
              "      quickchartButtonEl.classList.add('colab-df-spinner');\n",
              "      try {\n",
              "        const charts = await google.colab.kernel.invokeFunction(\n",
              "            'suggestCharts', [key], {});\n",
              "      } catch (error) {\n",
              "        console.error('Error during call to suggestCharts:', error);\n",
              "      }\n",
              "      quickchartButtonEl.classList.remove('colab-df-spinner');\n",
              "      quickchartButtonEl.classList.add('colab-df-quickchart-complete');\n",
              "    }\n",
              "    (() => {\n",
              "      let quickchartButtonEl =\n",
              "        document.querySelector('#df-b4f9a0ab-caad-4bc4-87f5-07764b69963e button');\n",
              "      quickchartButtonEl.style.display =\n",
              "        google.colab.kernel.accessAllowed ? 'block' : 'none';\n",
              "    })();\n",
              "  </script>\n",
              "</div>\n",
              "\n",
              "  <div id=\"id_b336a4de-6a4b-46f3-9b2d-ba7175c15f80\">\n",
              "    <style>\n",
              "      .colab-df-generate {\n",
              "        background-color: #E8F0FE;\n",
              "        border: none;\n",
              "        border-radius: 50%;\n",
              "        cursor: pointer;\n",
              "        display: none;\n",
              "        fill: #1967D2;\n",
              "        height: 32px;\n",
              "        padding: 0 0 0 0;\n",
              "        width: 32px;\n",
              "      }\n",
              "\n",
              "      .colab-df-generate:hover {\n",
              "        background-color: #E2EBFA;\n",
              "        box-shadow: 0px 1px 2px rgba(60, 64, 67, 0.3), 0px 1px 3px 1px rgba(60, 64, 67, 0.15);\n",
              "        fill: #174EA6;\n",
              "      }\n",
              "\n",
              "      [theme=dark] .colab-df-generate {\n",
              "        background-color: #3B4455;\n",
              "        fill: #D2E3FC;\n",
              "      }\n",
              "\n",
              "      [theme=dark] .colab-df-generate:hover {\n",
              "        background-color: #434B5C;\n",
              "        box-shadow: 0px 1px 3px 1px rgba(0, 0, 0, 0.15);\n",
              "        filter: drop-shadow(0px 1px 2px rgba(0, 0, 0, 0.3));\n",
              "        fill: #FFFFFF;\n",
              "      }\n",
              "    </style>\n",
              "    <button class=\"colab-df-generate\" onclick=\"generateWithVariable('df_h')\"\n",
              "            title=\"Generate code using this dataframe.\"\n",
              "            style=\"display:none;\">\n",
              "\n",
              "  <svg xmlns=\"http://www.w3.org/2000/svg\" height=\"24px\"viewBox=\"0 0 24 24\"\n",
              "       width=\"24px\">\n",
              "    <path d=\"M7,19H8.4L18.45,9,17,7.55,7,17.6ZM5,21V16.75L18.45,3.32a2,2,0,0,1,2.83,0l1.4,1.43a1.91,1.91,0,0,1,.58,1.4,1.91,1.91,0,0,1-.58,1.4L9.25,21ZM18.45,9,17,7.55Zm-12,3A5.31,5.31,0,0,0,4.9,8.1,5.31,5.31,0,0,0,1,6.5,5.31,5.31,0,0,0,4.9,4.9,5.31,5.31,0,0,0,6.5,1,5.31,5.31,0,0,0,8.1,4.9,5.31,5.31,0,0,0,12,6.5,5.46,5.46,0,0,0,6.5,12Z\"/>\n",
              "  </svg>\n",
              "    </button>\n",
              "    <script>\n",
              "      (() => {\n",
              "      const buttonEl =\n",
              "        document.querySelector('#id_b336a4de-6a4b-46f3-9b2d-ba7175c15f80 button.colab-df-generate');\n",
              "      buttonEl.style.display =\n",
              "        google.colab.kernel.accessAllowed ? 'block' : 'none';\n",
              "\n",
              "      buttonEl.onclick = () => {\n",
              "        google.colab.notebook.generateWithVariable('df_h');\n",
              "      }\n",
              "      })();\n",
              "    </script>\n",
              "  </div>\n",
              "\n",
              "    </div>\n",
              "  </div>\n"
            ],
            "application/vnd.google.colaboratory.intrinsic+json": {
              "type": "dataframe",
              "variable_name": "df_h",
              "summary": "{\n  \"name\": \"df_h\",\n  \"rows\": 80797,\n  \"fields\": [\n    {\n      \"column\": \"English\",\n      \"properties\": {\n        \"dtype\": \"string\",\n        \"num_unique_values\": 79395,\n        \"samples\": [\n          \"It greets you with two en-suite rooms tastefully furnished with private entry and laundry services.\",\n          \"Hepatitis-B is a worldwide disease which occurs due to hepatitis-B virus ( HBV ) .\",\n          \"It is the place where the wishes are fulfilled.\"\n        ],\n        \"semantic_type\": \"\",\n        \"description\": \"\"\n      }\n    },\n    {\n      \"column\": \"Hindi\",\n      \"properties\": {\n        \"dtype\": \"string\",\n        \"num_unique_values\": 79620,\n        \"samples\": [\n          \"\\u092e\\u0927\\u0941\\u092e\\u0947\\u0939 : \\u0909\\u091a\\u093f\\u0924 \\u091c\\u0940\\u0935\\u0928 \\u0936\\u0948\\u0932\\u0940 \\u092d\\u0940 \\u092e\\u0927\\u0941\\u092e\\u0947\\u0939 \\u0938\\u0947 \\u092c\\u091a\\u093e \\u0938\\u0915\\u0924\\u0940 \\u0939\\u0948 \\u0964\",\n          \"\\u0914\\u0938\\u0924 \\u0915\\u093e\\u0930 \\u0915\\u093e \\u0935\\u091c\\u0928 \\u0915\\u093f\\u0924\\u0928\\u093e \\u0939\\u094b\\u0924\\u093e \\u0939\\u0948\",\n          \"\\u092e\\u0930\\u0940\\u091c \\u0915\\u094b \\u092a\\u093e\\u0901\\u091a \\u0938\\u0947 \\u0938\\u093e\\u0924 \\u0926\\u093f\\u0928\\u094b\\u0902 \\u0924\\u0915, \\u0938\\u0902\\u0924\\u0930\\u0947 \\u0915\\u0947 \\u0930\\u0938 \\u092f\\u093e \\u092a\\u093e\\u0928\\u0940 \\u092a\\u0930 \\u0928\\u093f\\u0930\\u094d\\u092d\\u0930 \\u0938\\u0902\\u092f\\u092e (\\u0935\\u094d\\u0930\\u0924) \\u0915\\u094b \\u0905\\u092a\\u0928\\u093e\\u0928\\u093e \\u091a\\u093e\\u0939\\u093f\\u090f\\u0964\"\n        ],\n        \"semantic_type\": \"\",\n        \"description\": \"\"\n      }\n    }\n  ]\n}"
            }
          },
          "metadata": {},
          "execution_count": 17
        }
      ]
    },
    {
      "cell_type": "code",
      "source": [
        "nltk.download('punkt_tab')\n",
        "english_tokens_h = preprocess(df_h['English'])\n",
        "english_test_h =preprocess(val_h['English'])\n",
        "hindi_tokens = preprocess(df_h['Hindi'])\n",
        "hindi_test = preprocess(val_h['Hindi'])"
      ],
      "metadata": {
        "colab": {
          "base_uri": "https://localhost:8080/"
        },
        "id": "iYGMID4fT6H9",
        "outputId": "2d6dd834-9fb0-435b-87fa-e82ee8b0f123"
      },
      "execution_count": 23,
      "outputs": [
        {
          "output_type": "stream",
          "name": "stderr",
          "text": [
            "[nltk_data] Downloading package punkt_tab to /root/nltk_data...\n",
            "[nltk_data]   Unzipping tokenizers/punkt_tab.zip.\n"
          ]
        }
      ]
    },
    {
      "cell_type": "code",
      "source": [
        "# en - English, hi - Hindi\n",
        "en_train_h = english_tokens_h\n",
        "en_test_h = english_test_h\n",
        "hi_train = hindi_tokens\n",
        "hi_test = hindi_test"
      ],
      "metadata": {
        "id": "u2oIls9OWuXG"
      },
      "execution_count": 24,
      "outputs": []
    },
    {
      "cell_type": "code",
      "source": [
        "en_index2word_h = [\"<PAD>\", \"<SOS>\", \"<EOS>\"]\n",
        "hi_index2word = [\"<PAD>\", \"<SOS>\", \"<EOS>\"]\n",
        "\n",
        "for ds in [en_train_h, en_test_h]:\n",
        "    for sent in ds:\n",
        "        for token in sent:\n",
        "            if token not in en_index2word_h:\n",
        "                en_index2word_h.append(token)\n",
        "\n",
        "for ds in [hi_train, hi_test]:\n",
        "    for sent in ds:\n",
        "        for token in sent:\n",
        "            if token not in hi_index2word:\n",
        "                hi_index2word.append(token)"
      ],
      "metadata": {
        "id": "4a8bKvdcW9fs"
      },
      "execution_count": 25,
      "outputs": []
    },
    {
      "cell_type": "code",
      "source": [
        "en_word2index_h = {token: idx for idx, token in enumerate(en_index2word_h)}\n",
        "hi_word2index = {token: idx for idx, token in enumerate(hi_index2word)}"
      ],
      "metadata": {
        "id": "8HaWSDe1XW7g"
      },
      "execution_count": 26,
      "outputs": []
    },
    {
      "cell_type": "code",
      "source": [
        "en_lengths_h = sum([len(sent) for sent in en_train_h])/len(en_train_h)\n",
        "hi_lengths = sum([len(sent) for sent in hi_train])/len(hi_train)"
      ],
      "metadata": {
        "id": "ml3vOcnMXclK"
      },
      "execution_count": 27,
      "outputs": []
    },
    {
      "cell_type": "code",
      "source": [
        "en_train_encoded_h = [encode_and_pad(en_word2index_h, sent, seq_length) for sent in en_train_h]\n",
        "en_test_encoded_h = [encode_and_pad(en_word2index_h, sent, seq_length) for sent in en_test_h]\n",
        "hi_train_encoded = [encode_and_pad(hi_word2index, sent, seq_length) for sent in hi_train]\n",
        "hi_test_encoded = [encode_and_pad(hi_word2index, sent, seq_length) for sent in hi_test]"
      ],
      "metadata": {
        "id": "0MyBayWOX6R_"
      },
      "execution_count": 28,
      "outputs": []
    },
    {
      "cell_type": "code",
      "source": [
        "batch_size = 50\n",
        "\n",
        "train_x_h = np.array(en_train_encoded_h)\n",
        "train_y_h = np.array(hi_train_encoded)\n",
        "test_x_h = np.array(en_test_encoded_h)\n",
        "test_y_h = np.array(hi_test_encoded)\n",
        "\n",
        "train_ds_h = TensorDataset(torch.from_numpy(train_x_h), torch.from_numpy(train_y_h))\n",
        "test_ds_h = TensorDataset(torch.from_numpy(test_x_h))\n",
        "\n",
        "\n",
        "train_dl_h = DataLoader(train_ds_h, shuffle=True, batch_size=batch_size, drop_last=True)\n",
        "#test_dl_h = DataLoader(test_ds_h, shuffle=True, batch_size=batch_size, drop_last=True)"
      ],
      "metadata": {
        "id": "Za1FkRlrYLSF"
      },
      "execution_count": 29,
      "outputs": []
    },
    {
      "cell_type": "code",
      "source": [
        "encoder = EncoderLSTM(len(en_index2word_h), hidden_size).to(device)\n",
        "decoder = DecoderLSTM(hidden_size, len(hi_index2word)).to(device)"
      ],
      "metadata": {
        "id": "WWLtECuAk_Uy"
      },
      "execution_count": 30,
      "outputs": []
    },
    {
      "cell_type": "code",
      "source": [
        "encoder"
      ],
      "metadata": {
        "colab": {
          "base_uri": "https://localhost:8080/"
        },
        "id": "oyAZzPImlEeu",
        "outputId": "e9412c27-0b5a-48d3-e0b5-6a1d14d9ca35"
      },
      "execution_count": 31,
      "outputs": [
        {
          "output_type": "execute_result",
          "data": {
            "text/plain": [
              "EncoderLSTM(\n",
              "  (embedding): Embedding(69484, 128, padding_idx=0)\n",
              "  (lstm): LSTM(128, 128, batch_first=True)\n",
              ")"
            ]
          },
          "metadata": {},
          "execution_count": 31
        }
      ]
    },
    {
      "cell_type": "code",
      "source": [
        "decoder"
      ],
      "metadata": {
        "colab": {
          "base_uri": "https://localhost:8080/"
        },
        "id": "J-hwqK2TlGmD",
        "outputId": "31abb222-1a55-4b4e-ecf6-046ef354e89b"
      },
      "execution_count": 32,
      "outputs": [
        {
          "output_type": "execute_result",
          "data": {
            "text/plain": [
              "DecoderLSTM(\n",
              "  (embedding): Embedding(49078, 128, padding_idx=0)\n",
              "  (lstm): LSTM(128, 128)\n",
              "  (out): Linear(in_features=128, out_features=49078, bias=True)\n",
              "  (softmax): LogSoftmax(dim=1)\n",
              ")"
            ]
          },
          "metadata": {},
          "execution_count": 32
        }
      ]
    },
    {
      "cell_type": "code",
      "source": [
        "criterion = nn.CrossEntropyLoss()\n",
        "enc_optimizer = torch.optim.Adam(encoder.parameters(), lr=3e-3)\n",
        "dec_optimizer = torch.optim.Adam(decoder.parameters(), lr=3e-3)"
      ],
      "metadata": {
        "id": "kxkwkZGWlIRz"
      },
      "execution_count": 33,
      "outputs": []
    },
    {
      "cell_type": "code",
      "source": [
        "losses = []"
      ],
      "metadata": {
        "id": "NBn0F-wllPm9"
      },
      "execution_count": 34,
      "outputs": []
    },
    {
      "cell_type": "code",
      "source": [
        "import time\n",
        "\n",
        "input_length = target_length = seq_length\n",
        "\n",
        "SOS = en_word2index_h[\"<SOS>\"]\n",
        "EOS = en_word2index_h[\"<EOS>\"]\n",
        "\n",
        "epochs = 1\n",
        "start_time = time.time()\n",
        "\n",
        "# Training loop\n",
        "for epoch in range(epochs):\n",
        "    for idx, batch in enumerate(train_dl_h):\n",
        "        # Get the batch size\n",
        "        batch_size = batch[0].size(0)\n",
        "\n",
        "        # Creating initial hidden and cell states for the encoder with the correct batch size\n",
        "        encoder_hidden, encoder_cell = encoder.initHidden(batch_size)\n",
        "\n",
        "        # Assigning the input and target tensors and sending them to the device\n",
        "        input_tensor = batch[0].to(device)\n",
        "        target_tensor = batch[1].to(device)\n",
        "\n",
        "        # Clearing gradients\n",
        "        enc_optimizer.zero_grad()\n",
        "        dec_optimizer.zero_grad()\n",
        "\n",
        "        # Enable gradient calculation\n",
        "        with torch.set_grad_enabled(True):\n",
        "            # Feeding the input batch to the encoder\n",
        "            encoder_output, (encoder_hidden, encoder_cell) = encoder(input_tensor, (encoder_hidden, encoder_cell))\n",
        "\n",
        "            # Placeholder tensor for decoder outputs\n",
        "            dec_result = torch.zeros(target_length, batch_size, len(hi_index2word)).to(device)\n",
        "\n",
        "            # Initialize the decoder input with SOS token for the batch\n",
        "            decoder_input = torch.tensor([SOS] * batch_size, dtype=torch.long).to(device)\n",
        "\n",
        "            # Initialize the decoder hidden and cell states with encoder outputs\n",
        "            decoder_hidden, decoder_cell = encoder_hidden, encoder_cell\n",
        "\n",
        "            # Decoding step\n",
        "            max_length = target_tensor.size(1)  # Actual target sequence length\n",
        "            for i in range(1, max_length):\n",
        "                # Feed the input token and the hidden states to the decoder\n",
        "                decoder_output, (decoder_hidden, decoder_cell) = decoder(decoder_input.unsqueeze(0), (decoder_hidden, decoder_cell))\n",
        "\n",
        "                # Find the highest scoring word from the decoder output\n",
        "                best_word = decoder_output.argmax(1)\n",
        "\n",
        "                # Set the next decoder input to the highest scoring word\n",
        "                decoder_input = best_word\n",
        "\n",
        "                # Store the decoder's output in the result placeholder\n",
        "                dec_result[i] = decoder_output\n",
        "\n",
        "            # Reshape decoder outputs and targets for loss calculation\n",
        "            scores = dec_result.transpose(1, 0)[:, 1:max_length, :].reshape(-1, dec_result.shape[2])  # Predicted scores\n",
        "            targets = target_tensor[:, 1:max_length].reshape(-1)  # Exclude <SOS>\n",
        "\n",
        "            # Compute the loss (ignore padding tokens)\n",
        "            loss = criterion(scores, targets)\n",
        "\n",
        "            # Perform backpropagation and clip gradients\n",
        "            loss.backward()\n",
        "            torch.nn.utils.clip_grad_norm_(encoder.parameters(), max_norm=1)\n",
        "            torch.nn.utils.clip_grad_norm_(decoder.parameters(), max_norm=1)\n",
        "\n",
        "            # Update the weights\n",
        "            enc_optimizer.step()\n",
        "            dec_optimizer.step()\n",
        "\n",
        "            # Track the loss\n",
        "            losses.append(loss.item())\n",
        "\n",
        "            # Print intermediate loss every 100 batches\n",
        "            if idx % 100 == 0:\n",
        "                print(f\"Epoch {epoch+1}, Batch {idx}, Loss: {sum(losses) / len(losses):.4f}\")\n",
        "\n",
        "end_time = time .time()\n",
        "training_time = end_time - start_time\n"
      ],
      "metadata": {
        "colab": {
          "base_uri": "https://localhost:8080/"
        },
        "id": "V9vtY957sfHC",
        "outputId": "0f2911e0-085d-47bf-8c66-d56bedcf3821"
      },
      "execution_count": 35,
      "outputs": [
        {
          "output_type": "stream",
          "name": "stdout",
          "text": [
            "Epoch 1, Batch 0, Loss: 10.8334\n",
            "Epoch 1, Batch 100, Loss: 6.2856\n",
            "Epoch 1, Batch 200, Loss: 5.8793\n",
            "Epoch 1, Batch 300, Loss: 5.7061\n",
            "Epoch 1, Batch 400, Loss: 5.6061\n",
            "Epoch 1, Batch 500, Loss: 5.5459\n",
            "Epoch 1, Batch 600, Loss: 5.5082\n",
            "Epoch 1, Batch 700, Loss: 5.4671\n",
            "Epoch 1, Batch 800, Loss: 5.4439\n",
            "Epoch 1, Batch 900, Loss: 5.4240\n",
            "Epoch 1, Batch 1000, Loss: 5.4062\n",
            "Epoch 1, Batch 1100, Loss: 5.3909\n",
            "Epoch 1, Batch 1200, Loss: 5.3693\n",
            "Epoch 1, Batch 1300, Loss: 5.3519\n",
            "Epoch 1, Batch 1400, Loss: 5.3369\n",
            "Epoch 1, Batch 1500, Loss: 5.3236\n",
            "Epoch 1, Batch 1600, Loss: 5.3111\n",
            "Training time is  444.4146635532379\n"
          ]
        }
      ]
    },
    {
      "cell_type": "code",
      "source": [
        "print(\"Training time is \", training_time,\" seconds\")"
      ],
      "metadata": {
        "colab": {
          "base_uri": "https://localhost:8080/"
        },
        "id": "zFo30zMAiS6V",
        "outputId": "8fb46815-14d3-4f03-cde7-654d3aa30191"
      },
      "execution_count": 36,
      "outputs": [
        {
          "output_type": "stream",
          "name": "stdout",
          "text": [
            "Training time is  444.4146635532379  seconds\n"
          ]
        }
      ]
    },
    {
      "cell_type": "code",
      "source": [
        "plt.plot(losses)"
      ],
      "metadata": {
        "colab": {
          "base_uri": "https://localhost:8080/",
          "height": 447
        },
        "id": "V4WuO5gOlWZ7",
        "outputId": "c1833786-6d6a-4e68-c448-a0650351b331"
      },
      "execution_count": 37,
      "outputs": [
        {
          "output_type": "execute_result",
          "data": {
            "text/plain": [
              "[<matplotlib.lines.Line2D at 0x78e2adad0160>]"
            ]
          },
          "metadata": {},
          "execution_count": 37
        },
        {
          "output_type": "display_data",
          "data": {
            "text/plain": [
              "<Figure size 640x480 with 1 Axes>"
            ],
            "image/png": "[encoded data removed]"
          },
          "metadata": {}
        }
      ]
    },
    {
      "cell_type": "code",
      "source": [
        "val_ids_h = [ i for i,_ in val_data[\"English-Hindi\"][\"Test\"].items()]\n",
        "print('Length of val_ids_h = ', len(val_ids_h))"
      ],
      "metadata": {
        "colab": {
          "base_uri": "https://localhost:8080/"
        },
        "id": "1G1qYAS1lZE0",
        "outputId": "628a1f77-1d4b-473c-c27e-cb4279b80a4a"
      },
      "execution_count": 38,
      "outputs": [
        {
          "output_type": "stream",
          "name": "stdout",
          "text": [
            "Length of val_ids_h =  23085\n"
          ]
        }
      ]
    },
    {
      "cell_type": "code",
      "source": [
        "val_outs_h = []\n",
        "for i in tqdm(range(len(test_ds_h))):\n",
        "    # Initialize encoder hidden with correct num_layers\n",
        "    encoder_hidden, encoder_cell = encoder.initHidden(1) # Initialize with batch size 1\n",
        "    encoder_hidden = encoder_hidden.to(device)\n",
        "    encoder_cell = encoder_cell.to(device)\n",
        "\n",
        "    input_tensor = test_ds_h[i][0].unsqueeze(dim=0).to(device)\n",
        "    result = []\n",
        "    with torch.set_grad_enabled(False):\n",
        "        encoder_output, (encoder_hidden, encoder_cell) = encoder(input_tensor, (encoder_hidden, encoder_cell)) # Pass both hidden and cell state to the encoder\n",
        "        decoder_input = torch.tensor([SOS]).unsqueeze(dim=0).to(device)\n",
        "        decoder_hidden, decoder_cell = encoder_hidden, encoder_cell  # Initialize decoder hidden with both hidden and cell state from encoder\n",
        "        for di in range(1, target_length):\n",
        "            decoder_output, (decoder_hidden, decoder_cell) = decoder(decoder_input, (decoder_hidden, decoder_cell)) # Pass both hidden and cell state to the decoder\n",
        "            best = decoder_output.argmax(1)\n",
        "            result.append(hi_index2word[best.to('cpu').item()])\n",
        "            if best.item() == EOS:\n",
        "                break\n",
        "\n",
        "            decoder_input = best.unsqueeze(dim=0)\n",
        "    result = [i for i in result if not i in ['<EOS>', '<PAD>', '<SOS>']]\n",
        "    val_outs_h.append(\" \".join(result))"
      ],
      "metadata": {
        "colab": {
          "base_uri": "https://localhost:8080/"
        },
        "id": "2siD4Ay-l_oc",
        "outputId": "7bc35cc1-8305-4225-fd31-9149b72c6541"
      },
      "execution_count": 39,
      "outputs": [
        {
          "output_type": "stream",
          "name": "stderr",
          "text": [
            "100%|██████████| 23085/23085 [03:04<00:00, 125.05it/s]\n"
          ]
        }
      ]
    },
    {
      "cell_type": "code",
      "source": [
        "df0 = pd.DataFrame()\n",
        "df0[\"ID\"] = val_ids_h\n",
        "df0[\"Translation\"] = val_outs_h\n",
        "df0.to_csv('answersH.csv', index = False)"
      ],
      "metadata": {
        "id": "GRoeErwomHlI"
      },
      "execution_count": 40,
      "outputs": []
    },
    {
      "cell_type": "code",
      "source": [
        "x_h = pd.read_csv(\"/content/answersH.csv\")\n",
        "print(x_h.shape)"
      ],
      "metadata": {
        "colab": {
          "base_uri": "https://localhost:8080/"
        },
        "id": "M_GvIBLMm8WC",
        "outputId": "68d33759-527f-4d87-c896-a5eeb04e3697"
      },
      "execution_count": 41,
      "outputs": [
        {
          "output_type": "stream",
          "name": "stdout",
          "text": [
            "(23085, 2)\n"
          ]
        }
      ]
    },
    {
      "cell_type": "markdown",
      "source": [
        "# English --> Bengali"
      ],
      "metadata": {
        "id": "q8hLnL7or14I"
      }
    },
    {
      "cell_type": "code",
      "source": [
        "# Prepare training and validation data\n",
        "source_sentences_train = []\n",
        "target_sentences_train = []\n",
        "source_sentences_val = []\n",
        "target_sentences_val = []\n",
        "id_train = []\n",
        "id_val = []"
      ],
      "metadata": {
        "id": "_6fAFCDzsTQS"
      },
      "execution_count": 18,
      "outputs": []
    },
    {
      "cell_type": "code",
      "source": [
        "for language_pair, language_data in train_data.items():\n",
        "    if language_pair == \"English-Bengali\":\n",
        "        for data_type, data_entries in language_data.items():\n",
        "            for entry_id, entry_data in data_entries.items():\n",
        "                source = entry_data.get(\"source\")\n",
        "                target = entry_data.get(\"target\")\n",
        "\n",
        "                if data_type == \"Validation\":\n",
        "                    source_sentences_val.append(source)\n",
        "                    target_sentences_val.append(target)\n",
        "                    id_val.append(entry_id)\n",
        "                else:\n",
        "                    source_sentences_train.append(source)\n",
        "                    target_sentences_train.append(target)\n",
        "                    id_train.append(entry_id)"
      ],
      "metadata": {
        "id": "EyVFS_dusUf9"
      },
      "execution_count": 19,
      "outputs": []
    },
    {
      "cell_type": "code",
      "source": [
        "for language_pair, language_data in val_data.items():\n",
        "    if(language_pair == \"English-Bengali\"):\n",
        "      print(f\"Language Pair: {language_pair}\")\n",
        "      for data_type, data_entries in language_data.items():\n",
        "          print(f\"  Data Type: {data_type}\")\n",
        "          for entry_id, entry_data in data_entries.items():\n",
        "              source = entry_data[\"source\"]\n",
        "              #target = entry_data[\"target\"]\n",
        "              if (data_type == \"Test\"):\n",
        "                source_sentences_val.append(source)\n",
        "                #target_sentences_val.append(target)\n",
        "                #id_val.append(entry_id)\n",
        "              #else:\n",
        "                #source_sentences_train.append(source)\n",
        "                #target_sentences_train.append(target)\n",
        "                #id_train.append(entry_id)"
      ],
      "metadata": {
        "colab": {
          "base_uri": "https://localhost:8080/"
        },
        "id": "d0kjbRyfsnWS",
        "outputId": "6ed54d2c-b524-4fa1-8370-158590c21f12"
      },
      "execution_count": 20,
      "outputs": [
        {
          "output_type": "stream",
          "name": "stdout",
          "text": [
            "Language Pair: English-Bengali\n",
            "  Data Type: Test\n"
          ]
        }
      ]
    },
    {
      "cell_type": "code",
      "source": [
        "print(len(source_sentences_train))\n",
        "print(len(target_sentences_train))\n",
        "\n",
        "print(len(source_sentences_val))\n",
        "print(len(target_sentences_val))"
      ],
      "metadata": {
        "colab": {
          "base_uri": "https://localhost:8080/"
        },
        "id": "FWIsdRC4ssSO",
        "outputId": "460fbc02-0c50-4282-d9ad-90a574f1c3db"
      },
      "execution_count": 21,
      "outputs": [
        {
          "output_type": "stream",
          "name": "stdout",
          "text": [
            "68849\n",
            "68849\n",
            "19672\n",
            "0\n"
          ]
        }
      ]
    },
    {
      "cell_type": "code",
      "source": [
        "val_b = pd.DataFrame({'English':source_sentences_val,'Bengali': [None] * len(source_sentences_val)})"
      ],
      "metadata": {
        "id": "RDRsuDnns4Gq"
      },
      "execution_count": 22,
      "outputs": []
    },
    {
      "cell_type": "code",
      "source": [
        "val_b"
      ],
      "metadata": {
        "colab": {
          "base_uri": "https://localhost:8080/",
          "height": 423
        },
        "id": "lBlWuLBgtUP4",
        "outputId": "586a6ba5-b72e-4433-96e1-6a7b5535303b"
      },
      "execution_count": 23,
      "outputs": [
        {
          "output_type": "execute_result",
          "data": {
            "text/plain": [
              "                                                 English Bengali\n",
              "0                                         current events    None\n",
              "1      The god Brahma was pleased with her penance bu...    None\n",
              "2      After feeling stiffness in chest or heaviness ...    None\n",
              "3      As it dawns on him that the baby is in fact hi...    None\n",
              "4      Australia produces significant amounts of lent...    None\n",
              "...                                                  ...     ...\n",
              "19667                              temperature this hour    None\n",
              "19668  Today, Arizona is home to one of the largest I...    None\n",
              "19669  Enclose this mouth freshener in an airtight ja...    None\n",
              "19670  Antibiotics, to which the strain is susceptibl...    None\n",
              "19671             Apply some cream or vaseline on face .    None\n",
              "\n",
              "[19672 rows x 2 columns]"
            ],
            "text/html": [
              "\n",
              "  <div id=\"df-500c4e28-d725-401b-8b34-dc9ab4341d7a\" class=\"colab-df-container\">\n",
              "    <div>\n",
              "<style scoped>\n",
              "    .dataframe tbody tr th:only-of-type {\n",
              "        vertical-align: middle;\n",
              "    }\n",
              "\n",
              "    .dataframe tbody tr th {\n",
              "        vertical-align: top;\n",
              "    }\n",
              "\n",
              "    .dataframe thead th {\n",
              "        text-align: right;\n",
              "    }\n",
              "</style>\n",
              "<table border=\"1\" class=\"dataframe\">\n",
              "  <thead>\n",
              "    <tr style=\"text-align: right;\">\n",
              "      <th></th>\n",
              "      <th>English</th>\n",
              "      <th>Bengali</th>\n",
              "    </tr>\n",
              "  </thead>\n",
              "  <tbody>\n",
              "    <tr>\n",
              "      <th>0</th>\n",
              "      <td>current events</td>\n",
              "      <td>None</td>\n",
              "    </tr>\n",
              "    <tr>\n",
              "      <th>1</th>\n",
              "      <td>The god Brahma was pleased with her penance bu...</td>\n",
              "      <td>None</td>\n",
              "    </tr>\n",
              "    <tr>\n",
              "      <th>2</th>\n",
              "      <td>After feeling stiffness in chest or heaviness ...</td>\n",
              "      <td>None</td>\n",
              "    </tr>\n",
              "    <tr>\n",
              "      <th>3</th>\n",
              "      <td>As it dawns on him that the baby is in fact hi...</td>\n",
              "      <td>None</td>\n",
              "    </tr>\n",
              "    <tr>\n",
              "      <th>4</th>\n",
              "      <td>Australia produces significant amounts of lent...</td>\n",
              "      <td>None</td>\n",
              "    </tr>\n",
              "    <tr>\n",
              "      <th>...</th>\n",
              "      <td>...</td>\n",
              "      <td>...</td>\n",
              "    </tr>\n",
              "    <tr>\n",
              "      <th>19667</th>\n",
              "      <td>temperature this hour</td>\n",
              "      <td>None</td>\n",
              "    </tr>\n",
              "    <tr>\n",
              "      <th>19668</th>\n",
              "      <td>Today, Arizona is home to one of the largest I...</td>\n",
              "      <td>None</td>\n",
              "    </tr>\n",
              "    <tr>\n",
              "      <th>19669</th>\n",
              "      <td>Enclose this mouth freshener in an airtight ja...</td>\n",
              "      <td>None</td>\n",
              "    </tr>\n",
              "    <tr>\n",
              "      <th>19670</th>\n",
              "      <td>Antibiotics, to which the strain is susceptibl...</td>\n",
              "      <td>None</td>\n",
              "    </tr>\n",
              "    <tr>\n",
              "      <th>19671</th>\n",
              "      <td>Apply some cream or vaseline on face .</td>\n",
              "      <td>None</td>\n",
              "    </tr>\n",
              "  </tbody>\n",
              "</table>\n",
              "<p>19672 rows × 2 columns</p>\n",
              "</div>\n",
              "    <div class=\"colab-df-buttons\">\n",
              "\n",
              "  <div class=\"colab-df-container\">\n",
              "    <button class=\"colab-df-convert\" onclick=\"convertToInteractive('df-500c4e28-d725-401b-8b34-dc9ab4341d7a')\"\n",
              "            title=\"Convert this dataframe to an interactive table.\"\n",
              "            style=\"display:none;\">\n",
              "\n",
              "  <svg xmlns=\"http://www.w3.org/2000/svg\" height=\"24px\" viewBox=\"0 -960 960 960\">\n",
              "    <path d=\"M120-120v-720h720v720H120Zm60-500h600v-160H180v160Zm220 220h160v-160H400v160Zm0 220h160v-160H400v160ZM180-400h160v-160H180v160Zm440 0h160v-160H620v160ZM180-180h160v-160H180v160Zm440 0h160v-160H620v160Z\"/>\n",
              "  </svg>\n",
              "    </button>\n",
              "\n",
              "  <style>\n",
              "    .colab-df-container {\n",
              "      display:flex;\n",
              "      gap: 12px;\n",
              "    }\n",
              "\n",
              "    .colab-df-convert {\n",
              "      background-color: #E8F0FE;\n",
              "      border: none;\n",
              "      border-radius: 50%;\n",
              "      cursor: pointer;\n",
              "      display: none;\n",
              "      fill: #1967D2;\n",
              "      height: 32px;\n",
              "      padding: 0 0 0 0;\n",
              "      width: 32px;\n",
              "    }\n",
              "\n",
              "    .colab-df-convert:hover {\n",
              "      background-color: #E2EBFA;\n",
              "      box-shadow: 0px 1px 2px rgba(60, 64, 67, 0.3), 0px 1px 3px 1px rgba(60, 64, 67, 0.15);\n",
              "      fill: #174EA6;\n",
              "    }\n",
              "\n",
              "    .colab-df-buttons div {\n",
              "      margin-bottom: 4px;\n",
              "    }\n",
              "\n",
              "    [theme=dark] .colab-df-convert {\n",
              "      background-color: #3B4455;\n",
              "      fill: #D2E3FC;\n",
              "    }\n",
              "\n",
              "    [theme=dark] .colab-df-convert:hover {\n",
              "      background-color: #434B5C;\n",
              "      box-shadow: 0px 1px 3px 1px rgba(0, 0, 0, 0.15);\n",
              "      filter: drop-shadow(0px 1px 2px rgba(0, 0, 0, 0.3));\n",
              "      fill: #FFFFFF;\n",
              "    }\n",
              "  </style>\n",
              "\n",
              "    <script>\n",
              "      const buttonEl =\n",
              "        document.querySelector('#df-500c4e28-d725-401b-8b34-dc9ab4341d7a button.colab-df-convert');\n",
              "      buttonEl.style.display =\n",
              "        google.colab.kernel.accessAllowed ? 'block' : 'none';\n",
              "\n",
              "      async function convertToInteractive(key) {\n",
              "        const element = document.querySelector('#df-500c4e28-d725-401b-8b34-dc9ab4341d7a');\n",
              "        const dataTable =\n",
              "          await google.colab.kernel.invokeFunction('convertToInteractive',\n",
              "                                                    [key], {});\n",
              "        if (!dataTable) return;\n",
              "\n",
              "        const docLinkHtml = 'Like what you see? Visit the ' +\n",
              "          '<a target=\"_blank\" href=https://colab.research.google.com/notebooks/data_table.ipynb>data table notebook</a>'\n",
              "          + ' to learn more about interactive tables.';\n",
              "        element.innerHTML = '';\n",
              "        dataTable['output_type'] = 'display_data';\n",
              "        await google.colab.output.renderOutput(dataTable, element);\n",
              "        const docLink = document.createElement('div');\n",
              "        docLink.innerHTML = docLinkHtml;\n",
              "        element.appendChild(docLink);\n",
              "      }\n",
              "    </script>\n",
              "  </div>\n",
              "\n",
              "\n",
              "<div id=\"df-fb6ae14d-71ca-4b54-abd7-40985d600c02\">\n",
              "  <button class=\"colab-df-quickchart\" onclick=\"quickchart('df-fb6ae14d-71ca-4b54-abd7-40985d600c02')\"\n",
              "            title=\"Suggest charts\"\n",
              "            style=\"display:none;\">\n",
              "\n",
              "<svg xmlns=\"http://www.w3.org/2000/svg\" height=\"24px\"viewBox=\"0 0 24 24\"\n",
              "     width=\"24px\">\n",
              "    <g>\n",
              "        <path d=\"M19 3H5c-1.1 0-2 .9-2 2v14c0 1.1.9 2 2 2h14c1.1 0 2-.9 2-2V5c0-1.1-.9-2-2-2zM9 17H7v-7h2v7zm4 0h-2V7h2v10zm4 0h-2v-4h2v4z\"/>\n",
              "    </g>\n",
              "</svg>\n",
              "  </button>\n",
              "\n",
              "<style>\n",
              "  .colab-df-quickchart {\n",
              "      --bg-color: #E8F0FE;\n",
              "      --fill-color: #1967D2;\n",
              "      --hover-bg-color: #E2EBFA;\n",
              "      --hover-fill-color: #174EA6;\n",
              "      --disabled-fill-color: #AAA;\n",
              "      --disabled-bg-color: #DDD;\n",
              "  }\n",
              "\n",
              "  [theme=dark] .colab-df-quickchart {\n",
              "      --bg-color: #3B4455;\n",
              "      --fill-color: #D2E3FC;\n",
              "      --hover-bg-color: #434B5C;\n",
              "      --hover-fill-color: #FFFFFF;\n",
              "      --disabled-bg-color: #3B4455;\n",
              "      --disabled-fill-color: #666;\n",
              "  }\n",
              "\n",
              "  .colab-df-quickchart {\n",
              "    background-color: var(--bg-color);\n",
              "    border: none;\n",
              "    border-radius: 50%;\n",
              "    cursor: pointer;\n",
              "    display: none;\n",
              "    fill: var(--fill-color);\n",
              "    height: 32px;\n",
              "    padding: 0;\n",
              "    width: 32px;\n",
              "  }\n",
              "\n",
              "  .colab-df-quickchart:hover {\n",
              "    background-color: var(--hover-bg-color);\n",
              "    box-shadow: 0 1px 2px rgba(60, 64, 67, 0.3), 0 1px 3px 1px rgba(60, 64, 67, 0.15);\n",
              "    fill: var(--button-hover-fill-color);\n",
              "  }\n",
              "\n",
              "  .colab-df-quickchart-complete:disabled,\n",
              "  .colab-df-quickchart-complete:disabled:hover {\n",
              "    background-color: var(--disabled-bg-color);\n",
              "    fill: var(--disabled-fill-color);\n",
              "    box-shadow: none;\n",
              "  }\n",
              "\n",
              "  .colab-df-spinner {\n",
              "    border: 2px solid var(--fill-color);\n",
              "    border-color: transparent;\n",
              "    border-bottom-color: var(--fill-color);\n",
              "    animation:\n",
              "      spin 1s steps(1) infinite;\n",
              "  }\n",
              "\n",
              "  @keyframes spin {\n",
              "    0% {\n",
              "      border-color: transparent;\n",
              "      border-bottom-color: var(--fill-color);\n",
              "      border-left-color: var(--fill-color);\n",
              "    }\n",
              "    20% {\n",
              "      border-color: transparent;\n",
              "      border-left-color: var(--fill-color);\n",
              "      border-top-color: var(--fill-color);\n",
              "    }\n",
              "    30% {\n",
              "      border-color: transparent;\n",
              "      border-left-color: var(--fill-color);\n",
              "      border-top-color: var(--fill-color);\n",
              "      border-right-color: var(--fill-color);\n",
              "    }\n",
              "    40% {\n",
              "      border-color: transparent;\n",
              "      border-right-color: var(--fill-color);\n",
              "      border-top-color: var(--fill-color);\n",
              "    }\n",
              "    60% {\n",
              "      border-color: transparent;\n",
              "      border-right-color: var(--fill-color);\n",
              "    }\n",
              "    80% {\n",
              "      border-color: transparent;\n",
              "      border-right-color: var(--fill-color);\n",
              "      border-bottom-color: var(--fill-color);\n",
              "    }\n",
              "    90% {\n",
              "      border-color: transparent;\n",
              "      border-bottom-color: var(--fill-color);\n",
              "    }\n",
              "  }\n",
              "</style>\n",
              "\n",
              "  <script>\n",
              "    async function quickchart(key) {\n",
              "      const quickchartButtonEl =\n",
              "        document.querySelector('#' + key + ' button');\n",
              "      quickchartButtonEl.disabled = true;  // To prevent multiple clicks.\n",
              "      quickchartButtonEl.classList.add('colab-df-spinner');\n",
              "      try {\n",
              "        const charts = await google.colab.kernel.invokeFunction(\n",
              "            'suggestCharts', [key], {});\n",
              "      } catch (error) {\n",
              "        console.error('Error during call to suggestCharts:', error);\n",
              "      }\n",
              "      quickchartButtonEl.classList.remove('colab-df-spinner');\n",
              "      quickchartButtonEl.classList.add('colab-df-quickchart-complete');\n",
              "    }\n",
              "    (() => {\n",
              "      let quickchartButtonEl =\n",
              "        document.querySelector('#df-fb6ae14d-71ca-4b54-abd7-40985d600c02 button');\n",
              "      quickchartButtonEl.style.display =\n",
              "        google.colab.kernel.accessAllowed ? 'block' : 'none';\n",
              "    })();\n",
              "  </script>\n",
              "</div>\n",
              "\n",
              "  <div id=\"id_86d3ef0a-c595-4a1f-b76c-350a3ba11e15\">\n",
              "    <style>\n",
              "      .colab-df-generate {\n",
              "        background-color: #E8F0FE;\n",
              "        border: none;\n",
              "        border-radius: 50%;\n",
              "        cursor: pointer;\n",
              "        display: none;\n",
              "        fill: #1967D2;\n",
              "        height: 32px;\n",
              "        padding: 0 0 0 0;\n",
              "        width: 32px;\n",
              "      }\n",
              "\n",
              "      .colab-df-generate:hover {\n",
              "        background-color: #E2EBFA;\n",
              "        box-shadow: 0px 1px 2px rgba(60, 64, 67, 0.3), 0px 1px 3px 1px rgba(60, 64, 67, 0.15);\n",
              "        fill: #174EA6;\n",
              "      }\n",
              "\n",
              "      [theme=dark] .colab-df-generate {\n",
              "        background-color: #3B4455;\n",
              "        fill: #D2E3FC;\n",
              "      }\n",
              "\n",
              "      [theme=dark] .colab-df-generate:hover {\n",
              "        background-color: #434B5C;\n",
              "        box-shadow: 0px 1px 3px 1px rgba(0, 0, 0, 0.15);\n",
              "        filter: drop-shadow(0px 1px 2px rgba(0, 0, 0, 0.3));\n",
              "        fill: #FFFFFF;\n",
              "      }\n",
              "    </style>\n",
              "    <button class=\"colab-df-generate\" onclick=\"generateWithVariable('val_b')\"\n",
              "            title=\"Generate code using this dataframe.\"\n",
              "            style=\"display:none;\">\n",
              "\n",
              "  <svg xmlns=\"http://www.w3.org/2000/svg\" height=\"24px\"viewBox=\"0 0 24 24\"\n",
              "       width=\"24px\">\n",
              "    <path d=\"M7,19H8.4L18.45,9,17,7.55,7,17.6ZM5,21V16.75L18.45,3.32a2,2,0,0,1,2.83,0l1.4,1.43a1.91,1.91,0,0,1,.58,1.4,1.91,1.91,0,0,1-.58,1.4L9.25,21ZM18.45,9,17,7.55Zm-12,3A5.31,5.31,0,0,0,4.9,8.1,5.31,5.31,0,0,0,1,6.5,5.31,5.31,0,0,0,4.9,4.9,5.31,5.31,0,0,0,6.5,1,5.31,5.31,0,0,0,8.1,4.9,5.31,5.31,0,0,0,12,6.5,5.46,5.46,0,0,0,6.5,12Z\"/>\n",
              "  </svg>\n",
              "    </button>\n",
              "    <script>\n",
              "      (() => {\n",
              "      const buttonEl =\n",
              "        document.querySelector('#id_86d3ef0a-c595-4a1f-b76c-350a3ba11e15 button.colab-df-generate');\n",
              "      buttonEl.style.display =\n",
              "        google.colab.kernel.accessAllowed ? 'block' : 'none';\n",
              "\n",
              "      buttonEl.onclick = () => {\n",
              "        google.colab.notebook.generateWithVariable('val_b');\n",
              "      }\n",
              "      })();\n",
              "    </script>\n",
              "  </div>\n",
              "\n",
              "    </div>\n",
              "  </div>\n"
            ],
            "application/vnd.google.colaboratory.intrinsic+json": {
              "type": "dataframe",
              "variable_name": "val_b",
              "repr_error": "Out of range float values are not JSON compliant: nan"
            }
          },
          "metadata": {},
          "execution_count": 23
        }
      ]
    },
    {
      "cell_type": "code",
      "source": [
        "x={'English':source_sentences_train,'Bengali':target_sentences_train}"
      ],
      "metadata": {
        "id": "LIyYMX4ltAzX"
      },
      "execution_count": 24,
      "outputs": []
    },
    {
      "cell_type": "code",
      "source": [
        "df_b = pd.DataFrame(x)"
      ],
      "metadata": {
        "id": "1Bacte4rtXt5"
      },
      "execution_count": 25,
      "outputs": []
    },
    {
      "cell_type": "code",
      "source": [
        "df_b"
      ],
      "metadata": {
        "colab": {
          "base_uri": "https://localhost:8080/",
          "height": 423
        },
        "id": "2HKWVQYOtZmO",
        "outputId": "b56ebcf3-dd8c-4d52-9e8a-e76ccb736171"
      },
      "execution_count": 26,
      "outputs": [
        {
          "output_type": "execute_result",
          "data": {
            "text/plain": [
              "                                                 English  \\\n",
              "0      Do not forget to visit the point where the Nar...   \n",
              "1      It is evident that the biggest cause of povert...   \n",
              "2      The film was released theatrically on 12 April...   \n",
              "3                 is wyatt's birthday party at ten p. m.   \n",
              "4      Apart from being used as an eatable, barley is...   \n",
              "...                                                  ...   \n",
              "68844  But it is evident that there is change in both...   \n",
              "68845  Include a detailed listing of all of your prod...   \n",
              "68846  Each subcategory counts as one page, pages in ...   \n",
              "68847  It is one of the country's oldest state-run pu...   \n",
              "68848  It will also put an end to the unnecessary use...   \n",
              "\n",
              "                                                 Bengali  \n",
              "0      এই জায়গাগুলো দেখতে ভুলো না যেখানে নর্মদা নদী ম...  \n",
              "1       এই কথা স্পষ্ট যে দরিদ্রতার বড় কারণ হল অশিক্ষা ।  \n",
              "2      চলচ্চিত্রটি ২০১৩ সালের ১২ই এপ্রিল প্রেক্ষাগৃহে...  \n",
              "3                  অনিমেষ এর জন্মদিনের পার্টি রাত দশটায়  \n",
              "4      খাদ্যদ্রব্য ছাড়াও যব আরো বিভিন্ন ক্ষেত্রে যেমন...  \n",
              "...                                                  ...  \n",
              "68844  তাও এটা প্রত্যক্ষভাবে দেখা যায় যে প্রিন্ট মিড...  \n",
              "68845  ছবি সহ সম্পূর্ণ করা আপনার সমস্ত পণ্যের একটি বি...  \n",
              "68846  প্রতিটি উপবিভাগ একটি পৃষ্ঠা হিসাবে গণনা করা হয...  \n",
              "68847  এটি দেশের সবচেয়ে পুরনো রাষ্ট্র-চালিত সরকারী বা...  \n",
              "68848  সাথেই সারের অনাবশ্যক প্রয়োগের উপরও লাগাম টানা ...  \n",
              "\n",
              "[68849 rows x 2 columns]"
            ],
            "text/html": [
              "\n",
              "  <div id=\"df-dc274550-f98e-429c-a4be-59aba0445320\" class=\"colab-df-container\">\n",
              "    <div>\n",
              "<style scoped>\n",
              "    .dataframe tbody tr th:only-of-type {\n",
              "        vertical-align: middle;\n",
              "    }\n",
              "\n",
              "    .dataframe tbody tr th {\n",
              "        vertical-align: top;\n",
              "    }\n",
              "\n",
              "    .dataframe thead th {\n",
              "        text-align: right;\n",
              "    }\n",
              "</style>\n",
              "<table border=\"1\" class=\"dataframe\">\n",
              "  <thead>\n",
              "    <tr style=\"text-align: right;\">\n",
              "      <th></th>\n",
              "      <th>English</th>\n",
              "      <th>Bengali</th>\n",
              "    </tr>\n",
              "  </thead>\n",
              "  <tbody>\n",
              "    <tr>\n",
              "      <th>0</th>\n",
              "      <td>Do not forget to visit the point where the Nar...</td>\n",
              "      <td>এই জায়গাগুলো দেখতে ভুলো না যেখানে নর্মদা নদী ম...</td>\n",
              "    </tr>\n",
              "    <tr>\n",
              "      <th>1</th>\n",
              "      <td>It is evident that the biggest cause of povert...</td>\n",
              "      <td>এই কথা স্পষ্ট যে দরিদ্রতার বড় কারণ হল অশিক্ষা ।</td>\n",
              "    </tr>\n",
              "    <tr>\n",
              "      <th>2</th>\n",
              "      <td>The film was released theatrically on 12 April...</td>\n",
              "      <td>চলচ্চিত্রটি ২০১৩ সালের ১২ই এপ্রিল প্রেক্ষাগৃহে...</td>\n",
              "    </tr>\n",
              "    <tr>\n",
              "      <th>3</th>\n",
              "      <td>is wyatt's birthday party at ten p. m.</td>\n",
              "      <td>অনিমেষ এর জন্মদিনের পার্টি রাত দশটায়</td>\n",
              "    </tr>\n",
              "    <tr>\n",
              "      <th>4</th>\n",
              "      <td>Apart from being used as an eatable, barley is...</td>\n",
              "      <td>খাদ্যদ্রব্য ছাড়াও যব আরো বিভিন্ন ক্ষেত্রে যেমন...</td>\n",
              "    </tr>\n",
              "    <tr>\n",
              "      <th>...</th>\n",
              "      <td>...</td>\n",
              "      <td>...</td>\n",
              "    </tr>\n",
              "    <tr>\n",
              "      <th>68844</th>\n",
              "      <td>But it is evident that there is change in both...</td>\n",
              "      <td>তাও এটা প্রত্যক্ষভাবে দেখা যায় যে প্রিন্ট মিড...</td>\n",
              "    </tr>\n",
              "    <tr>\n",
              "      <th>68845</th>\n",
              "      <td>Include a detailed listing of all of your prod...</td>\n",
              "      <td>ছবি সহ সম্পূর্ণ করা আপনার সমস্ত পণ্যের একটি বি...</td>\n",
              "    </tr>\n",
              "    <tr>\n",
              "      <th>68846</th>\n",
              "      <td>Each subcategory counts as one page, pages in ...</td>\n",
              "      <td>প্রতিটি উপবিভাগ একটি পৃষ্ঠা হিসাবে গণনা করা হয...</td>\n",
              "    </tr>\n",
              "    <tr>\n",
              "      <th>68847</th>\n",
              "      <td>It is one of the country's oldest state-run pu...</td>\n",
              "      <td>এটি দেশের সবচেয়ে পুরনো রাষ্ট্র-চালিত সরকারী বা...</td>\n",
              "    </tr>\n",
              "    <tr>\n",
              "      <th>68848</th>\n",
              "      <td>It will also put an end to the unnecessary use...</td>\n",
              "      <td>সাথেই সারের অনাবশ্যক প্রয়োগের উপরও লাগাম টানা ...</td>\n",
              "    </tr>\n",
              "  </tbody>\n",
              "</table>\n",
              "<p>68849 rows × 2 columns</p>\n",
              "</div>\n",
              "    <div class=\"colab-df-buttons\">\n",
              "\n",
              "  <div class=\"colab-df-container\">\n",
              "    <button class=\"colab-df-convert\" onclick=\"convertToInteractive('df-dc274550-f98e-429c-a4be-59aba0445320')\"\n",
              "            title=\"Convert this dataframe to an interactive table.\"\n",
              "            style=\"display:none;\">\n",
              "\n",
              "  <svg xmlns=\"http://www.w3.org/2000/svg\" height=\"24px\" viewBox=\"0 -960 960 960\">\n",
              "    <path d=\"M120-120v-720h720v720H120Zm60-500h600v-160H180v160Zm220 220h160v-160H400v160Zm0 220h160v-160H400v160ZM180-400h160v-160H180v160Zm440 0h160v-160H620v160ZM180-180h160v-160H180v160Zm440 0h160v-160H620v160Z\"/>\n",
              "  </svg>\n",
              "    </button>\n",
              "\n",
              "  <style>\n",
              "    .colab-df-container {\n",
              "      display:flex;\n",
              "      gap: 12px;\n",
              "    }\n",
              "\n",
              "    .colab-df-convert {\n",
              "      background-color: #E8F0FE;\n",
              "      border: none;\n",
              "      border-radius: 50%;\n",
              "      cursor: pointer;\n",
              "      display: none;\n",
              "      fill: #1967D2;\n",
              "      height: 32px;\n",
              "      padding: 0 0 0 0;\n",
              "      width: 32px;\n",
              "    }\n",
              "\n",
              "    .colab-df-convert:hover {\n",
              "      background-color: #E2EBFA;\n",
              "      box-shadow: 0px 1px 2px rgba(60, 64, 67, 0.3), 0px 1px 3px 1px rgba(60, 64, 67, 0.15);\n",
              "      fill: #174EA6;\n",
              "    }\n",
              "\n",
              "    .colab-df-buttons div {\n",
              "      margin-bottom: 4px;\n",
              "    }\n",
              "\n",
              "    [theme=dark] .colab-df-convert {\n",
              "      background-color: #3B4455;\n",
              "      fill: #D2E3FC;\n",
              "    }\n",
              "\n",
              "    [theme=dark] .colab-df-convert:hover {\n",
              "      background-color: #434B5C;\n",
              "      box-shadow: 0px 1px 3px 1px rgba(0, 0, 0, 0.15);\n",
              "      filter: drop-shadow(0px 1px 2px rgba(0, 0, 0, 0.3));\n",
              "      fill: #FFFFFF;\n",
              "    }\n",
              "  </style>\n",
              "\n",
              "    <script>\n",
              "      const buttonEl =\n",
              "        document.querySelector('#df-dc274550-f98e-429c-a4be-59aba0445320 button.colab-df-convert');\n",
              "      buttonEl.style.display =\n",
              "        google.colab.kernel.accessAllowed ? 'block' : 'none';\n",
              "\n",
              "      async function convertToInteractive(key) {\n",
              "        const element = document.querySelector('#df-dc274550-f98e-429c-a4be-59aba0445320');\n",
              "        const dataTable =\n",
              "          await google.colab.kernel.invokeFunction('convertToInteractive',\n",
              "                                                    [key], {});\n",
              "        if (!dataTable) return;\n",
              "\n",
              "        const docLinkHtml = 'Like what you see? Visit the ' +\n",
              "          '<a target=\"_blank\" href=https://colab.research.google.com/notebooks/data_table.ipynb>data table notebook</a>'\n",
              "          + ' to learn more about interactive tables.';\n",
              "        element.innerHTML = '';\n",
              "        dataTable['output_type'] = 'display_data';\n",
              "        await google.colab.output.renderOutput(dataTable, element);\n",
              "        const docLink = document.createElement('div');\n",
              "        docLink.innerHTML = docLinkHtml;\n",
              "        element.appendChild(docLink);\n",
              "      }\n",
              "    </script>\n",
              "  </div>\n",
              "\n",
              "\n",
              "<div id=\"df-88d1c0e8-99ee-4050-b3e6-935655fba6ec\">\n",
              "  <button class=\"colab-df-quickchart\" onclick=\"quickchart('df-88d1c0e8-99ee-4050-b3e6-935655fba6ec')\"\n",
              "            title=\"Suggest charts\"\n",
              "            style=\"display:none;\">\n",
              "\n",
              "<svg xmlns=\"http://www.w3.org/2000/svg\" height=\"24px\"viewBox=\"0 0 24 24\"\n",
              "     width=\"24px\">\n",
              "    <g>\n",
              "        <path d=\"M19 3H5c-1.1 0-2 .9-2 2v14c0 1.1.9 2 2 2h14c1.1 0 2-.9 2-2V5c0-1.1-.9-2-2-2zM9 17H7v-7h2v7zm4 0h-2V7h2v10zm4 0h-2v-4h2v4z\"/>\n",
              "    </g>\n",
              "</svg>\n",
              "  </button>\n",
              "\n",
              "<style>\n",
              "  .colab-df-quickchart {\n",
              "      --bg-color: #E8F0FE;\n",
              "      --fill-color: #1967D2;\n",
              "      --hover-bg-color: #E2EBFA;\n",
              "      --hover-fill-color: #174EA6;\n",
              "      --disabled-fill-color: #AAA;\n",
              "      --disabled-bg-color: #DDD;\n",
              "  }\n",
              "\n",
              "  [theme=dark] .colab-df-quickchart {\n",
              "      --bg-color: #3B4455;\n",
              "      --fill-color: #D2E3FC;\n",
              "      --hover-bg-color: #434B5C;\n",
              "      --hover-fill-color: #FFFFFF;\n",
              "      --disabled-bg-color: #3B4455;\n",
              "      --disabled-fill-color: #666;\n",
              "  }\n",
              "\n",
              "  .colab-df-quickchart {\n",
              "    background-color: var(--bg-color);\n",
              "    border: none;\n",
              "    border-radius: 50%;\n",
              "    cursor: pointer;\n",
              "    display: none;\n",
              "    fill: var(--fill-color);\n",
              "    height: 32px;\n",
              "    padding: 0;\n",
              "    width: 32px;\n",
              "  }\n",
              "\n",
              "  .colab-df-quickchart:hover {\n",
              "    background-color: var(--hover-bg-color);\n",
              "    box-shadow: 0 1px 2px rgba(60, 64, 67, 0.3), 0 1px 3px 1px rgba(60, 64, 67, 0.15);\n",
              "    fill: var(--button-hover-fill-color);\n",
              "  }\n",
              "\n",
              "  .colab-df-quickchart-complete:disabled,\n",
              "  .colab-df-quickchart-complete:disabled:hover {\n",
              "    background-color: var(--disabled-bg-color);\n",
              "    fill: var(--disabled-fill-color);\n",
              "    box-shadow: none;\n",
              "  }\n",
              "\n",
              "  .colab-df-spinner {\n",
              "    border: 2px solid var(--fill-color);\n",
              "    border-color: transparent;\n",
              "    border-bottom-color: var(--fill-color);\n",
              "    animation:\n",
              "      spin 1s steps(1) infinite;\n",
              "  }\n",
              "\n",
              "  @keyframes spin {\n",
              "    0% {\n",
              "      border-color: transparent;\n",
              "      border-bottom-color: var(--fill-color);\n",
              "      border-left-color: var(--fill-color);\n",
              "    }\n",
              "    20% {\n",
              "      border-color: transparent;\n",
              "      border-left-color: var(--fill-color);\n",
              "      border-top-color: var(--fill-color);\n",
              "    }\n",
              "    30% {\n",
              "      border-color: transparent;\n",
              "      border-left-color: var(--fill-color);\n",
              "      border-top-color: var(--fill-color);\n",
              "      border-right-color: var(--fill-color);\n",
              "    }\n",
              "    40% {\n",
              "      border-color: transparent;\n",
              "      border-right-color: var(--fill-color);\n",
              "      border-top-color: var(--fill-color);\n",
              "    }\n",
              "    60% {\n",
              "      border-color: transparent;\n",
              "      border-right-color: var(--fill-color);\n",
              "    }\n",
              "    80% {\n",
              "      border-color: transparent;\n",
              "      border-right-color: var(--fill-color);\n",
              "      border-bottom-color: var(--fill-color);\n",
              "    }\n",
              "    90% {\n",
              "      border-color: transparent;\n",
              "      border-bottom-color: var(--fill-color);\n",
              "    }\n",
              "  }\n",
              "</style>\n",
              "\n",
              "  <script>\n",
              "    async function quickchart(key) {\n",
              "      const quickchartButtonEl =\n",
              "        document.querySelector('#' + key + ' button');\n",
              "      quickchartButtonEl.disabled = true;  // To prevent multiple clicks.\n",
              "      quickchartButtonEl.classList.add('colab-df-spinner');\n",
              "      try {\n",
              "        const charts = await google.colab.kernel.invokeFunction(\n",
              "            'suggestCharts', [key], {});\n",
              "      } catch (error) {\n",
              "        console.error('Error during call to suggestCharts:', error);\n",
              "      }\n",
              "      quickchartButtonEl.classList.remove('colab-df-spinner');\n",
              "      quickchartButtonEl.classList.add('colab-df-quickchart-complete');\n",
              "    }\n",
              "    (() => {\n",
              "      let quickchartButtonEl =\n",
              "        document.querySelector('#df-88d1c0e8-99ee-4050-b3e6-935655fba6ec button');\n",
              "      quickchartButtonEl.style.display =\n",
              "        google.colab.kernel.accessAllowed ? 'block' : 'none';\n",
              "    })();\n",
              "  </script>\n",
              "</div>\n",
              "\n",
              "  <div id=\"id_b3d4323c-83ff-4b00-a7bf-78fb0dd928e9\">\n",
              "    <style>\n",
              "      .colab-df-generate {\n",
              "        background-color: #E8F0FE;\n",
              "        border: none;\n",
              "        border-radius: 50%;\n",
              "        cursor: pointer;\n",
              "        display: none;\n",
              "        fill: #1967D2;\n",
              "        height: 32px;\n",
              "        padding: 0 0 0 0;\n",
              "        width: 32px;\n",
              "      }\n",
              "\n",
              "      .colab-df-generate:hover {\n",
              "        background-color: #E2EBFA;\n",
              "        box-shadow: 0px 1px 2px rgba(60, 64, 67, 0.3), 0px 1px 3px 1px rgba(60, 64, 67, 0.15);\n",
              "        fill: #174EA6;\n",
              "      }\n",
              "\n",
              "      [theme=dark] .colab-df-generate {\n",
              "        background-color: #3B4455;\n",
              "        fill: #D2E3FC;\n",
              "      }\n",
              "\n",
              "      [theme=dark] .colab-df-generate:hover {\n",
              "        background-color: #434B5C;\n",
              "        box-shadow: 0px 1px 3px 1px rgba(0, 0, 0, 0.15);\n",
              "        filter: drop-shadow(0px 1px 2px rgba(0, 0, 0, 0.3));\n",
              "        fill: #FFFFFF;\n",
              "      }\n",
              "    </style>\n",
              "    <button class=\"colab-df-generate\" onclick=\"generateWithVariable('df_b')\"\n",
              "            title=\"Generate code using this dataframe.\"\n",
              "            style=\"display:none;\">\n",
              "\n",
              "  <svg xmlns=\"http://www.w3.org/2000/svg\" height=\"24px\"viewBox=\"0 0 24 24\"\n",
              "       width=\"24px\">\n",
              "    <path d=\"M7,19H8.4L18.45,9,17,7.55,7,17.6ZM5,21V16.75L18.45,3.32a2,2,0,0,1,2.83,0l1.4,1.43a1.91,1.91,0,0,1,.58,1.4,1.91,1.91,0,0,1-.58,1.4L9.25,21ZM18.45,9,17,7.55Zm-12,3A5.31,5.31,0,0,0,4.9,8.1,5.31,5.31,0,0,0,1,6.5,5.31,5.31,0,0,0,4.9,4.9,5.31,5.31,0,0,0,6.5,1,5.31,5.31,0,0,0,8.1,4.9,5.31,5.31,0,0,0,12,6.5,5.46,5.46,0,0,0,6.5,12Z\"/>\n",
              "  </svg>\n",
              "    </button>\n",
              "    <script>\n",
              "      (() => {\n",
              "      const buttonEl =\n",
              "        document.querySelector('#id_b3d4323c-83ff-4b00-a7bf-78fb0dd928e9 button.colab-df-generate');\n",
              "      buttonEl.style.display =\n",
              "        google.colab.kernel.accessAllowed ? 'block' : 'none';\n",
              "\n",
              "      buttonEl.onclick = () => {\n",
              "        google.colab.notebook.generateWithVariable('df_b');\n",
              "      }\n",
              "      })();\n",
              "    </script>\n",
              "  </div>\n",
              "\n",
              "    </div>\n",
              "  </div>\n"
            ],
            "application/vnd.google.colaboratory.intrinsic+json": {
              "type": "dataframe",
              "variable_name": "df_b",
              "summary": "{\n  \"name\": \"df_b\",\n  \"rows\": 68849,\n  \"fields\": [\n    {\n      \"column\": \"English\",\n      \"properties\": {\n        \"dtype\": \"string\",\n        \"num_unique_values\": 66380,\n        \"samples\": [\n          \"Transplantation through dissection of rhizomes instead of seed flowers develop in less time .\",\n          \"After some miraculous incidents he disappeared .\",\n          \"SARS is called hyper active respiratory syndrome .\"\n        ],\n        \"semantic_type\": \"\",\n        \"description\": \"\"\n      }\n    },\n    {\n      \"column\": \"Bengali\",\n      \"properties\": {\n        \"dtype\": \"string\",\n        \"num_unique_values\": 67820,\n        \"samples\": [\n          \"\\u09ae\\u09be\\u09a8\\u09c1\\u09b7 \\u099c\\u09bf\\u098f\\u09a1\\u09bf \\u09aa\\u09cd\\u09b0\\u09a4\\u09cd\\u09af\\u09be\\u09b6\\u09bf\\u09a4 \\u09a6\\u09c1\\u09b0\\u09cd\\u09a6\\u09b6\\u09be \\u098f\\u09ac\\u0982 \\u09b8\\u09cd\\u09ac\\u09be\\u09b8\\u09cd\\u09a5\\u09cd\\u09af, \\u0985\\u09b0\\u09cd\\u09a5, \\u09aa\\u09b0\\u09bf\\u09ac\\u09be\\u09b0 \\u098f\\u09ac\\u0982 \\u0995\\u09be\\u099c \\u09a8\\u09bf\\u09df\\u09c7 \\u09a6\\u09be\\u09b0\\u09c1\\u09a8 \\u09ad\\u09be\\u09ac\\u09c7 \\u09ac\\u09bf\\u09aa\\u09a8\\u09cd\\u09a8 \\u0964\",\n          \"\\u0997\\u09c3\\u09b9\\u09c0\\u09a4 \\u0986\\u09b0 \\u09ac\\u09cd\\u09af\\u09df\\u09c0\\u09a4 \\u0995\\u09cd\\u09af\\u09be\\u09b2\\u09cb\\u09b0\\u09c0\\u09b0 \\u09ae\\u09be\\u09a4\\u09cd\\u09b0\\u09be\\u09b0 \\u09ae\\u09a7\\u09cd\\u09af\\u09c7 \\u098f\\u0987 \\u09ad\\u09be\\u09b0\\u09b8\\u09be\\u09ae\\u09cd\\u09af\\u09b9\\u09c0\\u09a8\\u09a4\\u09be \\u09ac\\u09c7\\u09b6 \\u0995\\u09bf\\u099b\\u09c1 \\u0995\\u09be\\u09b0\\u09a3\\u09c7 \\u09b9\\u09a4\\u09c7 \\u09aa\\u09be\\u09b0\\u09c7 \\u0964\",\n          \"\\u09b6\\u09c1\\u0995\\u09a8\\u09cb \\u0995\\u09be\\u09b6\\u09bf \\u09ac\\u09be \\u09b9\\u09be\\u0981\\u09aa\\u09be\\u09a8\\u09bf\\u09b0 \\u09ab\\u09b2\\u09c7 \\u09ac\\u09c1\\u0995\\u09c7\\u09b0 \\u0993\\u09aa\\u09b0 \\u099a\\u09be\\u09aa \\u09aa\\u09a1\\u09bc\\u09be\\u09b0 \\u09ab\\u09b2\\u09c7 \\u098f\\u0987 \\u09b0\\u09cb\\u0997 \\u09a4\\u09c8\\u09b0\\u09bf \\u09b9\\u09df \\u09f7\"\n        ],\n        \"semantic_type\": \"\",\n        \"description\": \"\"\n      }\n    }\n  ]\n}"
            }
          },
          "metadata": {},
          "execution_count": 26
        }
      ]
    },
    {
      "cell_type": "code",
      "source": [
        "nltk.download('punkt_tab')\n",
        "english_tokens_b = preprocess(df_b['English'])\n",
        "english_test_b = preprocess(val_b['English'])\n",
        "bengali_tokens = preprocess(df_b['Bengali'])\n",
        "bengali_test = preprocess(val_b['Bengali'])"
      ],
      "metadata": {
        "colab": {
          "base_uri": "https://localhost:8080/"
        },
        "id": "CGlYKAnVuL-t",
        "outputId": "7cbbb25e-a5c5-4fa5-b83b-28d1bfe61fbe"
      },
      "execution_count": 51,
      "outputs": [
        {
          "output_type": "stream",
          "name": "stderr",
          "text": [
            "[nltk_data] Downloading package punkt_tab to /root/nltk_data...\n",
            "[nltk_data]   Package punkt_tab is already up-to-date!\n"
          ]
        }
      ]
    },
    {
      "cell_type": "code",
      "source": [
        "# en - English, bn - Bengali\n",
        "en_train_b = english_tokens_b\n",
        "en_test_b = english_test_b\n",
        "bn_train = bengali_tokens\n",
        "bn_test = bengali_test"
      ],
      "metadata": {
        "id": "LyF0E-1VvAWA"
      },
      "execution_count": 52,
      "outputs": []
    },
    {
      "cell_type": "code",
      "source": [
        "en_index2word_b = [\"<PAD>\", \"<SOS>\", \"<EOS>\"]\n",
        "bn_index2word = [\"<PAD>\", \"<SOS>\", \"<EOS>\"]\n",
        "\n",
        "for ds in [en_train_b, en_test_b]:\n",
        "    for sent in ds:\n",
        "        for token in sent:\n",
        "            if token not in en_index2word_b:\n",
        "                en_index2word_b.append(token)\n",
        "\n",
        "for ds in [bn_train, bn_test]:\n",
        "    for sent in ds:\n",
        "        for token in sent:\n",
        "            if token not in bn_index2word:\n",
        "                bn_index2word.append(token)"
      ],
      "metadata": {
        "id": "3_Le8lwmu99E"
      },
      "execution_count": 53,
      "outputs": []
    },
    {
      "cell_type": "code",
      "source": [
        "en_word2index_b = {token: idx for idx, token in enumerate(en_index2word_b)}\n",
        "bn_word2index = {token: idx for idx, token in enumerate(bn_index2word)}\n",
        "\n",
        "en_lengths_b = sum([len(sent) for sent in en_train_b])/len(en_train_b)\n",
        "bn_lengths = sum([len(sent) for sent in bn_train])/len(bn_train)"
      ],
      "metadata": {
        "id": "wp06lQ-XvFrG"
      },
      "execution_count": 54,
      "outputs": []
    },
    {
      "cell_type": "code",
      "source": [
        "en_train_encoded_b = [encode_and_pad(en_word2index_b, sent, seq_length) for sent in en_train_b]\n",
        "en_test_encoded_b = [encode_and_pad(en_word2index_b, sent, seq_length) for sent in en_test_b]\n",
        "bn_train_encoded = [encode_and_pad(bn_word2index, sent, seq_length) for sent in bn_train]\n",
        "bn_test_encoded = [encode_and_pad(bn_word2index, sent, seq_length) for sent in bn_test]"
      ],
      "metadata": {
        "id": "yKGR2DIzvK1z"
      },
      "execution_count": 55,
      "outputs": []
    },
    {
      "cell_type": "code",
      "source": [
        "batch_size = 50\n",
        "\n",
        "train_x_b = np.array(en_train_encoded_b)\n",
        "train_y_b = np.array(bn_train_encoded)\n",
        "test_x_b = np.array(en_test_encoded_b)\n",
        "test_y_b = np.array(bn_test_encoded)\n",
        "\n",
        "train_ds_b = TensorDataset(torch.from_numpy(train_x_b), torch.from_numpy(train_y_b))\n",
        "test_ds_b = TensorDataset(torch.from_numpy(test_x_b))\n",
        "\n",
        "train_dl_b = DataLoader(train_ds_b, shuffle=True, batch_size=batch_size, drop_last=True)\n",
        "#test_dl_b = DataLoader(test_ds_b, shuffle=True, batch_size=batch_size, drop_last=True)"
      ],
      "metadata": {
        "id": "tK7yoqMlvODr"
      },
      "execution_count": 56,
      "outputs": []
    },
    {
      "cell_type": "code",
      "source": [
        "encoder = EncoderLSTM(len(en_index2word_b), hidden_size).to(device)\n",
        "decoder = DecoderLSTM(hidden_size, len(bn_index2word)).to(device)"
      ],
      "metadata": {
        "id": "RjMSOrqer43y"
      },
      "execution_count": 57,
      "outputs": []
    },
    {
      "cell_type": "code",
      "source": [
        "criterion = nn.CrossEntropyLoss()\n",
        "enc_optimizer = torch.optim.Adam(encoder.parameters(), lr=3e-3)\n",
        "dec_optimizer = torch.optim.Adam(decoder.parameters(), lr=3e-3)"
      ],
      "metadata": {
        "id": "e1TEJ062xWhT"
      },
      "execution_count": 58,
      "outputs": []
    },
    {
      "cell_type": "code",
      "source": [
        "import time\n",
        "\n",
        "input_length = target_length = seq_length\n",
        "\n",
        "SOS = en_word2index_b[\"<SOS>\"]\n",
        "EOS = en_word2index_b[\"<EOS>\"]\n",
        "\n",
        "epochs = 1\n",
        "losses = []  # Track losses\n",
        "start_time = time.time()\n",
        "\n",
        "for epoch in range(epochs):\n",
        "    for idx, batch in enumerate(train_dl_b):\n",
        "        # Get the batch size\n",
        "        batch_size = batch[0].size(0)\n",
        "\n",
        "        # Creating initial hidden and cell states for the encoder\n",
        "        encoder_hidden, encoder_cell = encoder.initHidden(batch_size)\n",
        "\n",
        "        # Sending initial hidden and cell states to device\n",
        "        encoder_hidden = encoder_hidden.to(device)\n",
        "        encoder_cell = encoder_cell.to(device)\n",
        "\n",
        "        # Assigning the input and target tensors and sending them to the device\n",
        "        input_tensor = batch[0].to(device)\n",
        "        target_tensor = batch[1].to(device)\n",
        "\n",
        "        # Clearing gradients\n",
        "        enc_optimizer.zero_grad()\n",
        "        dec_optimizer.zero_grad()\n",
        "\n",
        "        # Enable gradient calculation\n",
        "        with torch.set_grad_enabled(True):\n",
        "            # Feeding the input batch to the encoder\n",
        "            encoder_output, (encoder_hidden, encoder_cell) = encoder(input_tensor, (encoder_hidden, encoder_cell))\n",
        "\n",
        "            # Placeholder tensor for decoder outputs\n",
        "            dec_result = torch.zeros(target_length, batch_size, len(bn_index2word)).to(device)\n",
        "\n",
        "            # Initialize the decoder input with SOS token for the batch\n",
        "            decoder_input = torch.tensor([SOS] * batch_size, dtype=torch.long).to(device)\n",
        "\n",
        "            # Initialize the decoder hidden and cell states with encoder outputs\n",
        "            decoder_hidden, decoder_cell = encoder_hidden, encoder_cell\n",
        "\n",
        "            # Decoding step\n",
        "            max_length = target_tensor.size(1)  # Actual target sequence length\n",
        "            for i in range(1, max_length):\n",
        "                # Feed the input token and the hidden states to the decoder\n",
        "                decoder_output, (decoder_hidden, decoder_cell) = decoder(decoder_input.unsqueeze(0), (decoder_hidden, decoder_cell))\n",
        "\n",
        "                # Find the highest scoring word from the decoder output\n",
        "                best_word = decoder_output.argmax(1)\n",
        "\n",
        "                # Set the next decoder input to the highest scoring word\n",
        "                decoder_input = best_word\n",
        "\n",
        "                # Store the decoder's output in the result placeholder\n",
        "                dec_result[i] = decoder_output\n",
        "\n",
        "            # Reshape decoder outputs and targets for loss calculation\n",
        "            scores = dec_result.transpose(1, 0)[:, 1:max_length, :].reshape(-1, dec_result.shape[2])  # Predicted scores\n",
        "            targets = target_tensor[:, 1:max_length].reshape(-1)  # Exclude <SOS>\n",
        "\n",
        "            # Compute the loss (ignore padding tokens)\n",
        "            loss = criterion(scores, targets)\n",
        "\n",
        "            # Perform backpropagation and clip gradients\n",
        "            loss.backward()\n",
        "            torch.nn.utils.clip_grad_norm_(encoder.parameters(), max_norm=1)\n",
        "            torch.nn.utils.clip_grad_norm_(decoder.parameters(), max_norm=1)\n",
        "\n",
        "            # Update the weights\n",
        "            enc_optimizer.step()\n",
        "            dec_optimizer.step()\n",
        "\n",
        "            # Track the loss\n",
        "            losses.append(loss.item())\n",
        "\n",
        "            # Print intermediate loss every 100 batches\n",
        "            if idx % 100 == 0:\n",
        "                print(f\"Epoch {epoch+1}, Batch {idx}, Loss: {sum(losses) / len(losses):.4f}\")\n",
        "\n",
        "end_time = time.time()\n",
        "training_time = end_time - start_time"
      ],
      "metadata": {
        "colab": {
          "base_uri": "https://localhost:8080/"
        },
        "id": "eABL9tkvxUIU",
        "outputId": "55c33cd0-d1ba-4c3a-924a-4320d7043680"
      },
      "execution_count": 59,
      "outputs": [
        {
          "output_type": "stream",
          "name": "stdout",
          "text": [
            "Epoch 1, Batch 0, Loss: 11.2743\n",
            "Epoch 1, Batch 100, Loss: 6.7064\n",
            "Epoch 1, Batch 200, Loss: 6.2685\n",
            "Epoch 1, Batch 300, Loss: 6.1297\n",
            "Epoch 1, Batch 400, Loss: 6.0269\n",
            "Epoch 1, Batch 500, Loss: 5.9756\n",
            "Epoch 1, Batch 600, Loss: 5.9320\n",
            "Epoch 1, Batch 700, Loss: 5.8991\n",
            "Epoch 1, Batch 800, Loss: 5.8695\n",
            "Epoch 1, Batch 900, Loss: 5.8500\n",
            "Epoch 1, Batch 1000, Loss: 5.8273\n",
            "Epoch 1, Batch 1100, Loss: 5.8101\n",
            "Epoch 1, Batch 1200, Loss: 5.7954\n",
            "Epoch 1, Batch 1300, Loss: 5.7799\n"
          ]
        }
      ]
    },
    {
      "cell_type": "code",
      "source": [
        "print(\"Training time is \", training_time, \"seconds\")"
      ],
      "metadata": {
        "colab": {
          "base_uri": "https://localhost:8080/"
        },
        "id": "0ewMY8-Slhc0",
        "outputId": "92ebc23b-14af-4e17-dc5d-741e0794b636"
      },
      "execution_count": 60,
      "outputs": [
        {
          "output_type": "stream",
          "name": "stdout",
          "text": [
            "Training time is  568.9127388000488 seconds\n"
          ]
        }
      ]
    },
    {
      "cell_type": "code",
      "source": [
        "plt.plot(losses)"
      ],
      "metadata": {
        "colab": {
          "base_uri": "https://localhost:8080/",
          "height": 447
        },
        "id": "Mk2ibnNQfB61",
        "outputId": "60f9899e-235b-4a7a-fe45-37591e142acb"
      },
      "execution_count": 61,
      "outputs": [
        {
          "output_type": "execute_result",
          "data": {
            "text/plain": [
              "[<matplotlib.lines.Line2D at 0x78e2ae30be20>]"
            ]
          },
          "metadata": {},
          "execution_count": 61
        },
        {
          "output_type": "display_data",
          "data": {
            "text/plain": [
              "<Figure size 640x480 with 1 Axes>"
            ],
            "image/png": "[encoded data removed]"
          },
          "metadata": {}
        }
      ]
    },
    {
      "cell_type": "code",
      "source": [
        "val_ids_b = [ i for i,_ in val_data[\"English-Bengali\"][\"Test\"].items()]\n",
        "print('Length of val_ids_b = ', len(val_ids_b))"
      ],
      "metadata": {
        "colab": {
          "base_uri": "https://localhost:8080/"
        },
        "id": "2txUvVLhrt6X",
        "outputId": "7a71174c-6c36-460d-9386-c6b694145ae7"
      },
      "execution_count": 62,
      "outputs": [
        {
          "output_type": "stream",
          "name": "stdout",
          "text": [
            "Length of val_ids_b =  19672\n"
          ]
        }
      ]
    },
    {
      "cell_type": "code",
      "source": [
        "val_outs_b = []\n",
        "for i in tqdm(range(len(test_ds_b))):\n",
        "    # Initialize encoder hidden with correct num_layers\n",
        "    encoder_hidden, encoder_cell = encoder.initHidden(1)  # Initialize with batch size 1\n",
        "    encoder_hidden = encoder_hidden.to(device)\n",
        "    encoder_cell = encoder_cell.to(device)\n",
        "\n",
        "    input_tensor = test_ds_b[i][0].unsqueeze(dim=0).to(device)\n",
        "    result = []\n",
        "    with torch.set_grad_enabled(False):\n",
        "        encoder_output, (encoder_hidden, encoder_cell) = encoder(input_tensor, (encoder_hidden, encoder_cell))  # Pass both hidden and cell state to the encoder\n",
        "        decoder_input = torch.tensor([SOS]).unsqueeze(dim=0).to(device)\n",
        "        decoder_hidden, decoder_cell = encoder_hidden, encoder_cell  # Initialize decoder hidden with both hidden and cell state from encoder\n",
        "        for di in range(1, target_length):\n",
        "            decoder_output, (decoder_hidden, decoder_cell) = decoder(decoder_input, (decoder_hidden, decoder_cell))  # Pass both hidden and cell state to the decoder\n",
        "            best = decoder_output.argmax(1)\n",
        "            result.append(bn_index2word[best.to('cpu').item()])\n",
        "            if best.item() == EOS:\n",
        "                break\n",
        "\n",
        "            decoder_input = best.unsqueeze(dim=0)\n",
        "    result = [i for i in result if not i in ['<EOS>', '<PAD>', '<SOS>']]\n",
        "    val_outs_b.append(\" \".join(result))"
      ],
      "metadata": {
        "colab": {
          "base_uri": "https://localhost:8080/"
        },
        "id": "AfMU11DRmOSC",
        "outputId": "b86cfb7d-2c07-497c-ac3c-9fc05b85a11e"
      },
      "execution_count": 63,
      "outputs": [
        {
          "output_type": "stream",
          "name": "stderr",
          "text": [
            "100%|██████████| 19672/19672 [02:21<00:00, 139.22it/s]\n"
          ]
        }
      ]
    },
    {
      "cell_type": "code",
      "source": [
        "df0 = pd.DataFrame()\n",
        "df0[\"ID\"] = val_ids_b\n",
        "df0[\"Translation\"] = val_outs_b\n",
        "df0.to_csv('answersB.csv', index = False)"
      ],
      "metadata": {
        "id": "6_lHsrklm1od"
      },
      "execution_count": 64,
      "outputs": []
    },
    {
      "cell_type": "code",
      "source": [
        "x_b = pd.read_csv(\"/content/answersB.csv\")\n",
        "print(x_b.shape)"
      ],
      "metadata": {
        "colab": {
          "base_uri": "https://localhost:8080/"
        },
        "id": "mrHlW-GEnRL-",
        "outputId": "6bd7a01e-1822-4858-de8d-0c1f69028f45"
      },
      "execution_count": 65,
      "outputs": [
        {
          "output_type": "stream",
          "name": "stdout",
          "text": [
            "(19672, 2)\n"
          ]
        }
      ]
    },
    {
      "cell_type": "markdown",
      "source": [
        "# Final data"
      ],
      "metadata": {
        "id": "IzrV-Rqksowv"
      }
    },
    {
      "cell_type": "code",
      "source": [
        "df = pd.concat([x_b,x_h])"
      ],
      "metadata": {
        "id": "GRBEdOd2ndap"
      },
      "execution_count": 66,
      "outputs": []
    },
    {
      "cell_type": "code",
      "source": [
        "df.to_csv('answersBH.csv', index = False)\n",
        "df_final = pd.read_csv(\"/content/answersBH.csv\")"
      ],
      "metadata": {
        "id": "tyqc7qQlnlLf"
      },
      "execution_count": 67,
      "outputs": []
    },
    {
      "cell_type": "code",
      "source": [
        "df_final.shape"
      ],
      "metadata": {
        "colab": {
          "base_uri": "https://localhost:8080/"
        },
        "id": "4Ph7R3v7jvIT",
        "outputId": "d5385e8c-bb77-4085-92e0-c3202fbd2d2e"
      },
      "execution_count": 68,
      "outputs": [
        {
          "output_type": "execute_result",
          "data": {
            "text/plain": [
              "(42757, 2)"
            ]
          },
          "metadata": {},
          "execution_count": 68
        }
      ]
    },
    {
      "cell_type": "code",
      "source": [
        "df_final.head()"
      ],
      "metadata": {
        "colab": {
          "base_uri": "https://localhost:8080/",
          "height": 206
        },
        "id": "hhR7CLFKktzJ",
        "outputId": "255c0b44-0ae9-4b52-b79a-3da79307be34"
      },
      "execution_count": 69,
      "outputs": [
        {
          "output_type": "execute_result",
          "data": {
            "text/plain": [
              "       ID                                Translation\n",
              "0  177039                                      আমর ক\n",
              "1  177040      এই এই য য য য এব এব এব এব এব এব এব এব\n",
              "2  177041       তন তন য য য য য তর এব এব এব এব এব এব\n",
              "3  177042  এট এব এব এব এব এব এব এব এব এব এব এব এব এব\n",
              "4  177043                                এই কর কর কর"
            ],
            "text/html": [
              "\n",
              "  <div id=\"df-8c939eb0-3693-4467-a646-9f18ca18e719\" class=\"colab-df-container\">\n",
              "    <div>\n",
              "<style scoped>\n",
              "    .dataframe tbody tr th:only-of-type {\n",
              "        vertical-align: middle;\n",
              "    }\n",
              "\n",
              "    .dataframe tbody tr th {\n",
              "        vertical-align: top;\n",
              "    }\n",
              "\n",
              "    .dataframe thead th {\n",
              "        text-align: right;\n",
              "    }\n",
              "</style>\n",
              "<table border=\"1\" class=\"dataframe\">\n",
              "  <thead>\n",
              "    <tr style=\"text-align: right;\">\n",
              "      <th></th>\n",
              "      <th>ID</th>\n",
              "      <th>Translation</th>\n",
              "    </tr>\n",
              "  </thead>\n",
              "  <tbody>\n",
              "    <tr>\n",
              "      <th>0</th>\n",
              "      <td>177039</td>\n",
              "      <td>আমর ক</td>\n",
              "    </tr>\n",
              "    <tr>\n",
              "      <th>1</th>\n",
              "      <td>177040</td>\n",
              "      <td>এই এই য য য য এব এব এব এব এব এব এব এব</td>\n",
              "    </tr>\n",
              "    <tr>\n",
              "      <th>2</th>\n",
              "      <td>177041</td>\n",
              "      <td>তন তন য য য য য তর এব এব এব এব এব এব</td>\n",
              "    </tr>\n",
              "    <tr>\n",
              "      <th>3</th>\n",
              "      <td>177042</td>\n",
              "      <td>এট এব এব এব এব এব এব এব এব এব এব এব এব এব</td>\n",
              "    </tr>\n",
              "    <tr>\n",
              "      <th>4</th>\n",
              "      <td>177043</td>\n",
              "      <td>এই কর কর কর</td>\n",
              "    </tr>\n",
              "  </tbody>\n",
              "</table>\n",
              "</div>\n",
              "    <div class=\"colab-df-buttons\">\n",
              "\n",
              "  <div class=\"colab-df-container\">\n",
              "    <button class=\"colab-df-convert\" onclick=\"convertToInteractive('df-8c939eb0-3693-4467-a646-9f18ca18e719')\"\n",
              "            title=\"Convert this dataframe to an interactive table.\"\n",
              "            style=\"display:none;\">\n",
              "\n",
              "  <svg xmlns=\"http://www.w3.org/2000/svg\" height=\"24px\" viewBox=\"0 -960 960 960\">\n",
              "    <path d=\"M120-120v-720h720v720H120Zm60-500h600v-160H180v160Zm220 220h160v-160H400v160Zm0 220h160v-160H400v160ZM180-400h160v-160H180v160Zm440 0h160v-160H620v160ZM180-180h160v-160H180v160Zm440 0h160v-160H620v160Z\"/>\n",
              "  </svg>\n",
              "    </button>\n",
              "\n",
              "  <style>\n",
              "    .colab-df-container {\n",
              "      display:flex;\n",
              "      gap: 12px;\n",
              "    }\n",
              "\n",
              "    .colab-df-convert {\n",
              "      background-color: #E8F0FE;\n",
              "      border: none;\n",
              "      border-radius: 50%;\n",
              "      cursor: pointer;\n",
              "      display: none;\n",
              "      fill: #1967D2;\n",
              "      height: 32px;\n",
              "      padding: 0 0 0 0;\n",
              "      width: 32px;\n",
              "    }\n",
              "\n",
              "    .colab-df-convert:hover {\n",
              "      background-color: #E2EBFA;\n",
              "      box-shadow: 0px 1px 2px rgba(60, 64, 67, 0.3), 0px 1px 3px 1px rgba(60, 64, 67, 0.15);\n",
              "      fill: #174EA6;\n",
              "    }\n",
              "\n",
              "    .colab-df-buttons div {\n",
              "      margin-bottom: 4px;\n",
              "    }\n",
              "\n",
              "    [theme=dark] .colab-df-convert {\n",
              "      background-color: #3B4455;\n",
              "      fill: #D2E3FC;\n",
              "    }\n",
              "\n",
              "    [theme=dark] .colab-df-convert:hover {\n",
              "      background-color: #434B5C;\n",
              "      box-shadow: 0px 1px 3px 1px rgba(0, 0, 0, 0.15);\n",
              "      filter: drop-shadow(0px 1px 2px rgba(0, 0, 0, 0.3));\n",
              "      fill: #FFFFFF;\n",
              "    }\n",
              "  </style>\n",
              "\n",
              "    <script>\n",
              "      const buttonEl =\n",
              "        document.querySelector('#df-8c939eb0-3693-4467-a646-9f18ca18e719 button.colab-df-convert');\n",
              "      buttonEl.style.display =\n",
              "        google.colab.kernel.accessAllowed ? 'block' : 'none';\n",
              "\n",
              "      async function convertToInteractive(key) {\n",
              "        const element = document.querySelector('#df-8c939eb0-3693-4467-a646-9f18ca18e719');\n",
              "        const dataTable =\n",
              "          await google.colab.kernel.invokeFunction('convertToInteractive',\n",
              "                                                    [key], {});\n",
              "        if (!dataTable) return;\n",
              "\n",
              "        const docLinkHtml = 'Like what you see? Visit the ' +\n",
              "          '<a target=\"_blank\" href=https://colab.research.google.com/notebooks/data_table.ipynb>data table notebook</a>'\n",
              "          + ' to learn more about interactive tables.';\n",
              "        element.innerHTML = '';\n",
              "        dataTable['output_type'] = 'display_data';\n",
              "        await google.colab.output.renderOutput(dataTable, element);\n",
              "        const docLink = document.createElement('div');\n",
              "        docLink.innerHTML = docLinkHtml;\n",
              "        element.appendChild(docLink);\n",
              "      }\n",
              "    </script>\n",
              "  </div>\n",
              "\n",
              "\n",
              "<div id=\"df-f3d8cad7-4fb9-482a-8a1a-e8b4fdb9a760\">\n",
              "  <button class=\"colab-df-quickchart\" onclick=\"quickchart('df-f3d8cad7-4fb9-482a-8a1a-e8b4fdb9a760')\"\n",
              "            title=\"Suggest charts\"\n",
              "            style=\"display:none;\">\n",
              "\n",
              "<svg xmlns=\"http://www.w3.org/2000/svg\" height=\"24px\"viewBox=\"0 0 24 24\"\n",
              "     width=\"24px\">\n",
              "    <g>\n",
              "        <path d=\"M19 3H5c-1.1 0-2 .9-2 2v14c0 1.1.9 2 2 2h14c1.1 0 2-.9 2-2V5c0-1.1-.9-2-2-2zM9 17H7v-7h2v7zm4 0h-2V7h2v10zm4 0h-2v-4h2v4z\"/>\n",
              "    </g>\n",
              "</svg>\n",
              "  </button>\n",
              "\n",
              "<style>\n",
              "  .colab-df-quickchart {\n",
              "      --bg-color: #E8F0FE;\n",
              "      --fill-color: #1967D2;\n",
              "      --hover-bg-color: #E2EBFA;\n",
              "      --hover-fill-color: #174EA6;\n",
              "      --disabled-fill-color: #AAA;\n",
              "      --disabled-bg-color: #DDD;\n",
              "  }\n",
              "\n",
              "  [theme=dark] .colab-df-quickchart {\n",
              "      --bg-color: #3B4455;\n",
              "      --fill-color: #D2E3FC;\n",
              "      --hover-bg-color: #434B5C;\n",
              "      --hover-fill-color: #FFFFFF;\n",
              "      --disabled-bg-color: #3B4455;\n",
              "      --disabled-fill-color: #666;\n",
              "  }\n",
              "\n",
              "  .colab-df-quickchart {\n",
              "    background-color: var(--bg-color);\n",
              "    border: none;\n",
              "    border-radius: 50%;\n",
              "    cursor: pointer;\n",
              "    display: none;\n",
              "    fill: var(--fill-color);\n",
              "    height: 32px;\n",
              "    padding: 0;\n",
              "    width: 32px;\n",
              "  }\n",
              "\n",
              "  .colab-df-quickchart:hover {\n",
              "    background-color: var(--hover-bg-color);\n",
              "    box-shadow: 0 1px 2px rgba(60, 64, 67, 0.3), 0 1px 3px 1px rgba(60, 64, 67, 0.15);\n",
              "    fill: var(--button-hover-fill-color);\n",
              "  }\n",
              "\n",
              "  .colab-df-quickchart-complete:disabled,\n",
              "  .colab-df-quickchart-complete:disabled:hover {\n",
              "    background-color: var(--disabled-bg-color);\n",
              "    fill: var(--disabled-fill-color);\n",
              "    box-shadow: none;\n",
              "  }\n",
              "\n",
              "  .colab-df-spinner {\n",
              "    border: 2px solid var(--fill-color);\n",
              "    border-color: transparent;\n",
              "    border-bottom-color: var(--fill-color);\n",
              "    animation:\n",
              "      spin 1s steps(1) infinite;\n",
              "  }\n",
              "\n",
              "  @keyframes spin {\n",
              "    0% {\n",
              "      border-color: transparent;\n",
              "      border-bottom-color: var(--fill-color);\n",
              "      border-left-color: var(--fill-color);\n",
              "    }\n",
              "    20% {\n",
              "      border-color: transparent;\n",
              "      border-left-color: var(--fill-color);\n",
              "      border-top-color: var(--fill-color);\n",
              "    }\n",
              "    30% {\n",
              "      border-color: transparent;\n",
              "      border-left-color: var(--fill-color);\n",
              "      border-top-color: var(--fill-color);\n",
              "      border-right-color: var(--fill-color);\n",
              "    }\n",
              "    40% {\n",
              "      border-color: transparent;\n",
              "      border-right-color: var(--fill-color);\n",
              "      border-top-color: var(--fill-color);\n",
              "    }\n",
              "    60% {\n",
              "      border-color: transparent;\n",
              "      border-right-color: var(--fill-color);\n",
              "    }\n",
              "    80% {\n",
              "      border-color: transparent;\n",
              "      border-right-color: var(--fill-color);\n",
              "      border-bottom-color: var(--fill-color);\n",
              "    }\n",
              "    90% {\n",
              "      border-color: transparent;\n",
              "      border-bottom-color: var(--fill-color);\n",
              "    }\n",
              "  }\n",
              "</style>\n",
              "\n",
              "  <script>\n",
              "    async function quickchart(key) {\n",
              "      const quickchartButtonEl =\n",
              "        document.querySelector('#' + key + ' button');\n",
              "      quickchartButtonEl.disabled = true;  // To prevent multiple clicks.\n",
              "      quickchartButtonEl.classList.add('colab-df-spinner');\n",
              "      try {\n",
              "        const charts = await google.colab.kernel.invokeFunction(\n",
              "            'suggestCharts', [key], {});\n",
              "      } catch (error) {\n",
              "        console.error('Error during call to suggestCharts:', error);\n",
              "      }\n",
              "      quickchartButtonEl.classList.remove('colab-df-spinner');\n",
              "      quickchartButtonEl.classList.add('colab-df-quickchart-complete');\n",
              "    }\n",
              "    (() => {\n",
              "      let quickchartButtonEl =\n",
              "        document.querySelector('#df-f3d8cad7-4fb9-482a-8a1a-e8b4fdb9a760 button');\n",
              "      quickchartButtonEl.style.display =\n",
              "        google.colab.kernel.accessAllowed ? 'block' : 'none';\n",
              "    })();\n",
              "  </script>\n",
              "</div>\n",
              "\n",
              "    </div>\n",
              "  </div>\n"
            ],
            "application/vnd.google.colaboratory.intrinsic+json": {
              "type": "dataframe",
              "variable_name": "df_final",
              "summary": "{\n  \"name\": \"df_final\",\n  \"rows\": 42757,\n  \"fields\": [\n    {\n      \"column\": \"ID\",\n      \"properties\": {\n        \"dtype\": \"number\",\n        \"std\": 181930,\n        \"min\": 177039,\n        \"max\": 563223,\n        \"num_unique_values\": 42757,\n        \"samples\": [\n          553543,\n          179982,\n          562250\n        ],\n        \"semantic_type\": \"\",\n        \"description\": \"\"\n      }\n    },\n    {\n      \"column\": \"Translation\",\n      \"properties\": {\n        \"dtype\": \"category\",\n        \"num_unique_values\": 7373,\n        \"samples\": [\n          \"\\u0986\\u09aa\\u09a8 \\u0995 \\u0995 \\u0995 \\u0995\\u09b0 \\u0995\\u09b0 \\u0995\\u09b0\",\n          \"\\u098f\\u099f \\u09af \\u09af \\u09af \\u09af \\u09af \\u0995\\u09b0 \\u0995\\u09b0\",\n          \"\\u098f\\u0987 \\u098f\\u0987 \\u098f\\u0987 \\u09af \\u09af \\u09af \\u0995\\u09b0 \\u09af \\u0995\\u09b0 \\u098f\\u09ac\"\n        ],\n        \"semantic_type\": \"\",\n        \"description\": \"\"\n      }\n    }\n  ]\n}"
            }
          },
          "metadata": {},
          "execution_count": 69
        }
      ]
    },
    {
      "cell_type": "code",
      "source": [
        "answer = \"/content/answer.csv\"\n",
        "with open(answer, \"w\") as f:\n",
        "  f.writelines(\"ID\\tTranslation\\n\")\n",
        "  for i in range(df_final.shape[0]):\n",
        "    f.writelines(f'{df_final[\"ID\"][i]}\\t\"{df_final[\"Translation\"][i]}\"\\n')"
      ],
      "metadata": {
        "id": "z-tLnvRfn0Fx"
      },
      "execution_count": null,
      "outputs": []
    },
    {
      "cell_type": "code",
      "source": [
        "d = pd.read_csv(\"answer_f.csv\",header = None)"
      ],
      "metadata": {
        "id": "56D1nlqrpwpX"
      },
      "execution_count": null,
      "outputs": []
    },
    {
      "cell_type": "code",
      "source": [
        "d.shape"
      ],
      "metadata": {
        "colab": {
          "base_uri": "https://localhost:8080/"
        },
        "id": "heIBko4Sp4zh",
        "outputId": "20085b25-cee3-4bb2-d587-1509e5ba2438"
      },
      "execution_count": null,
      "outputs": [
        {
          "output_type": "execute_result",
          "data": {
            "text/plain": [
              "(42758, 2)"
            ]
          },
          "metadata": {},
          "execution_count": 85
        }
      ]
    },
    {
      "cell_type": "code",
      "source": [
        "import pandas as pd\n",
        "import matplotlib.pyplot as plt\n",
        "import seaborn as sns\n",
        "from collections import Counter\n",
        "import numpy as np\n",
        "\n",
        "# Load the datasets (assuming they are stored as CSV files)\n",
        "english_hindi_df = df_h\n",
        "english_bengali_df =df_b\n",
        "# Combine both DataFrames for overall analysis\n",
        "combined_df = pd.concat([english_hindi_df, english_bengali_df])\n",
        "\n",
        "# Sentence length statistics for English, Hindi, and Bengali\n",
        "english_sentence_lengths = combined_df['English'].apply(lambda x: len(str(x).split())) # Convert to string before splitting\n",
        "hindi_sentence_lengths = combined_df['Hindi'].apply(lambda x: len(str(x).split())) # Convert to string before splitting\n",
        "bengali_sentence_lengths = combined_df['Bengali'].apply(lambda x: len(str(x).split())) # Convert to string before splitting\n",
        "\n",
        "# Summary statistics for sentence lengths\n",
        "print(\"English Sentence Length Stats:\")\n",
        "print(english_sentence_lengths.describe())\n",
        "\n",
        "print(\"\\nHindi Sentence Length Stats:\")\n",
        "print(hindi_sentence_lengths.describe())\n",
        "\n",
        "print(\"\\nBengali Sentence Length Stats:\")\n",
        "print(bengali_sentence_lengths.describe())\n",
        "\n",
        "# Word Frequency Analysis\n",
        "english_words = ' '.join(combined_df['English']).split()\n",
        "hindi_words = ' '.join(combined_df['Hindi'].astype(str)).split()\n",
        "bengali_words = ' '.join(combined_df['Bengali'].astype(str)).split()\n",
        "\n",
        "# Word count\n",
        "english_word_counts = Counter(english_words)\n",
        "hindi_word_counts = Counter(hindi_words)\n",
        "bengali_word_counts = Counter(bengali_words)\n",
        "\n",
        "# Display most common words\n",
        "print(\"\\nTop 10 most common English words:\")\n",
        "print(english_word_counts.most_common(10))\n",
        "\n",
        "print(\"\\nTop 10 most common Hindi words:\")\n",
        "print(hindi_word_counts.most_common(10))\n",
        "\n",
        "print(\"\\nTop 10 most common Bengali words:\")\n",
        "print(bengali_word_counts.most_common(10))\n",
        "\n",
        "# Visualization: Sentence Length Distribution\n",
        "plt.figure(figsize=(10,6))\n",
        "sns.histplot(english_sentence_lengths, color='blue', label='English', kde=True, stat='density', linewidth=0)\n",
        "sns.histplot(hindi_sentence_lengths, color='green', label='Hindi', kde=True, stat='density', linewidth=0)\n",
        "sns.histplot(bengali_sentence_lengths, color='red', label='Bengali', kde=True, stat='density', linewidth=0)\n",
        "plt.legend()\n",
        "plt.title('Sentence Length Distribution (English, Hindi, Bengali)')\n",
        "plt.xlabel('Sentence Length (Number of Words)')\n",
        "plt.ylabel('Density')\n",
        "plt.show()"
      ],
      "metadata": {
        "colab": {
          "base_uri": "https://localhost:8080/",
          "height": 1000
        },
        "id": "DhYMp5sD4spb",
        "outputId": "09923fdf-d057-4359-bed6-239f3e8d6bec"
      },
      "execution_count": 30,
      "outputs": [
        {
          "output_type": "stream",
          "name": "stdout",
          "text": [
            "English Sentence Length Stats:\n",
            "count    149646.000000\n",
            "mean         16.955121\n",
            "std           8.959481\n",
            "min           1.000000\n",
            "25%          11.000000\n",
            "50%          16.000000\n",
            "75%          22.000000\n",
            "max         257.000000\n",
            "Name: English, dtype: float64\n",
            "\n",
            "Hindi Sentence Length Stats:\n",
            "count    149646.000000\n",
            "mean         10.681736\n",
            "std          11.926170\n",
            "min           1.000000\n",
            "25%           1.000000\n",
            "50%           6.000000\n",
            "75%          18.000000\n",
            "max         216.000000\n",
            "Name: Hindi, dtype: float64\n",
            "\n",
            "Bengali Sentence Length Stats:\n",
            "count    149646.000000\n",
            "mean          7.106364\n",
            "std           8.226763\n",
            "min           1.000000\n",
            "25%           1.000000\n",
            "50%           1.000000\n",
            "75%          12.000000\n",
            "max          84.000000\n",
            "Name: Bengali, dtype: float64\n",
            "\n",
            "Top 10 most common English words:\n",
            "[('the', 143277), ('of', 97530), ('and', 66158), ('in', 56142), ('.', 53701), ('is', 52005), ('to', 51848), ('a', 40633), (',', 24249), ('The', 20255)]\n",
            "\n",
            "Top 10 most common Hindi words:\n",
            "[('nan', 68852), ('के', 62641), ('में', 45206), ('है', 34363), ('की', 31177), ('और', 28897), ('।', 28852), ('से', 28726), ('का', 22371), ('को', 22322)]\n",
            "\n",
            "Top 10 most common Bengali words:\n",
            "[('nan', 80797), ('৷', 17593), ('এবং', 16544), (',', 11796), ('এই', 9100), ('থেকে', 8577), ('জন্য', 7798), ('করে', 7773), ('করা', 7372), ('একটি', 7192)]\n"
          ]
        },
        {
          "output_type": "display_data",
          "data": {
            "text/plain": [
              "<Figure size 1000x600 with 1 Axes>"
            ],
            "image/png": "[encoded data removed]"
          },
          "metadata": {}
        }
      ]
    }
  ]
}